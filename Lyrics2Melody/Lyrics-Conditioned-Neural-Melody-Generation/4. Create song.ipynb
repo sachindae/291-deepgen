{
 "cells": [
  {
   "cell_type": "code",
   "execution_count": null,
   "metadata": {
    "id": "OSyr8_WltXYD"
   },
   "outputs": [],
   "source": []
  },
  {
   "cell_type": "code",
   "execution_count": 2,
   "metadata": {
    "colab": {
     "base_uri": "https://localhost:8080/"
    },
    "executionInfo": {
     "elapsed": 16821,
     "status": "ok",
     "timestamp": 1667178810157,
     "user": {
      "displayName": "Eunji Song",
      "userId": "02630850563491596195"
     },
     "user_tz": 420
    },
    "id": "6SXVINR3tYt1",
    "outputId": "6ec80db9-2ee1-41b4-eaa9-838dff8f476f"
   },
   "outputs": [
    {
     "name": "stdout",
     "output_type": "stream",
     "text": [
      "Mounted at /content/drive\n"
     ]
    }
   ],
   "source": [
    "from google.colab import drive\n",
    "drive.mount('/content/drive')"
   ]
  },
  {
   "cell_type": "code",
   "execution_count": 3,
   "metadata": {
    "colab": {
     "base_uri": "https://localhost:8080/"
    },
    "executionInfo": {
     "elapsed": 1837,
     "status": "ok",
     "timestamp": 1667178811992,
     "user": {
      "displayName": "Eunji Song",
      "userId": "02630850563491596195"
     },
     "user_tz": 420
    },
    "id": "9rq7QUEitdQA",
    "outputId": "f5a03903-6def-4675-bc3c-fb2f3481b26c"
   },
   "outputs": [
    {
     "name": "stdout",
     "output_type": "stream",
     "text": [
      "/content/drive/Othercomputers/My Laptop/291-deepgen/Lyrics2Melody/Lyrics-Conditioned-Neural-Melody-Generation\n",
      "'0. Create train-test-valid datasets.ipynb'\n",
      "'3. Melody generation using test data_EJ_modified.ipynb'\n",
      "'4. Create song.ipynb'\n",
      " data\n",
      " enc_models\n",
      " lstm-gan-lyrics2melody.py\n",
      " lstm-gan-lyrics2melody-v2.py\n",
      " midi_statistics.py\n",
      " mmd.py\n",
      " __pycache__\n",
      " roll.py\n",
      " saved_gan_models\n",
      " settings\n",
      " Skip-gram_model_script_to_extract_syllables_and_word_level_embeddings.ipynb\n",
      " test.mid\n",
      " utils.py\n"
     ]
    }
   ],
   "source": [
    "%cd /content/drive/Othercomputers/My\\ Laptop/291-deepgen/Lyrics2Melody/Lyrics-Conditioned-Neural-Melody-Generation\n",
    "!ls"
   ]
  },
  {
   "cell_type": "code",
   "execution_count": 4,
   "metadata": {
    "colab": {
     "base_uri": "https://localhost:8080/"
    },
    "executionInfo": {
     "elapsed": 4609,
     "status": "ok",
     "timestamp": 1667178816598,
     "user": {
      "displayName": "Eunji Song",
      "userId": "02630850563491596195"
     },
     "user_tz": 420
    },
    "id": "ALI22f4RtzVr",
    "outputId": "5db2e3f3-6942-4b47-9504-e63b8d05e44c"
   },
   "outputs": [
    {
     "name": "stdout",
     "output_type": "stream",
     "text": [
      "Looking in indexes: https://pypi.org/simple, https://us-python.pkg.dev/colab-wheels/public/simple/\n",
      "Collecting py-midi\n",
      "  Downloading py_midi-2.0.1-py3-none-any.whl (23 kB)\n",
      "Collecting pyserial\n",
      "  Downloading pyserial-3.5-py2.py3-none-any.whl (90 kB)\n",
      "\u001b[K     |████████████████████████████████| 90 kB 5.9 MB/s \n",
      "\u001b[?25hInstalling collected packages: pyserial, py-midi\n",
      "Successfully installed py-midi-2.0.1 pyserial-3.5\n"
     ]
    }
   ],
   "source": [
    "!pip install py-midi"
   ]
  },
  {
   "cell_type": "code",
   "execution_count": 5,
   "metadata": {
    "colab": {
     "base_uri": "https://localhost:8080/"
    },
    "executionInfo": {
     "elapsed": 9452,
     "status": "ok",
     "timestamp": 1667178826047,
     "user": {
      "displayName": "Eunji Song",
      "userId": "02630850563491596195"
     },
     "user_tz": 420
    },
    "id": "L5gpV2nYuFLU",
    "outputId": "f7f06425-a48a-4e09-cdb6-d380ecc0a412"
   },
   "outputs": [
    {
     "name": "stdout",
     "output_type": "stream",
     "text": [
      "Looking in indexes: https://pypi.org/simple, https://us-python.pkg.dev/colab-wheels/public/simple/\n",
      "Collecting pretty_midi\n",
      "  Downloading pretty_midi-0.2.9.tar.gz (5.6 MB)\n",
      "\u001b[K     |████████████████████████████████| 5.6 MB 12.8 MB/s \n",
      "\u001b[?25hRequirement already satisfied: numpy>=1.7.0 in /usr/local/lib/python3.7/dist-packages (from pretty_midi) (1.21.6)\n",
      "Collecting mido>=1.1.16\n",
      "  Downloading mido-1.2.10-py2.py3-none-any.whl (51 kB)\n",
      "\u001b[K     |████████████████████████████████| 51 kB 6.4 MB/s \n",
      "\u001b[?25hRequirement already satisfied: six in /usr/local/lib/python3.7/dist-packages (from pretty_midi) (1.15.0)\n",
      "Building wheels for collected packages: pretty-midi\n",
      "  Building wheel for pretty-midi (setup.py) ... \u001b[?25l\u001b[?25hdone\n",
      "  Created wheel for pretty-midi: filename=pretty_midi-0.2.9-py3-none-any.whl size=5591955 sha256=8611d887ac80924e8ad5253dbee49d7b411780e8fee294779a4e40859ed47b2f\n",
      "  Stored in directory: /root/.cache/pip/wheels/ad/74/7c/a06473ca8dcb63efb98c1e67667ce39d52100f837835ea18fa\n",
      "Successfully built pretty-midi\n",
      "Installing collected packages: mido, pretty-midi\n",
      "Successfully installed mido-1.2.10 pretty-midi-0.2.9\n"
     ]
    }
   ],
   "source": [
    "!pip install pretty_midi"
   ]
  },
  {
   "cell_type": "code",
   "execution_count": 1,
   "metadata": {
    "executionInfo": {
     "elapsed": 1210,
     "status": "ok",
     "timestamp": 1667178827248,
     "user": {
      "displayName": "Eunji Song",
      "userId": "02630850563491596195"
     },
     "user_tz": 420
    },
    "id": "nj3UiunCO1p9"
   },
   "outputs": [],
   "source": [
    "\n",
    "import numpy as np\n",
    "import tensorflow as tf\n",
    "import midi_statistics\n",
    "import utils\n",
    "import os\n",
    "from gensim.models import Word2Vec\n"
   ]
  },
  {
   "cell_type": "code",
   "execution_count": 2,
   "metadata": {
    "executionInfo": {
     "elapsed": 3,
     "status": "ok",
     "timestamp": 1667178827249,
     "user": {
      "displayName": "Eunji Song",
      "userId": "02630850563491596195"
     },
     "user_tz": 420
    },
    "id": "f6vkexZjO1p-"
   },
   "outputs": [],
   "source": [
    "\n",
    "syll_model_path = './enc_models/syllEncoding_20190419.bin'\n",
    "word_model_path = './enc_models/wordLevelEncoder_20190419.bin'\n"
   ]
  },
  {
   "cell_type": "code",
   "execution_count": 3,
   "metadata": {
    "executionInfo": {
     "elapsed": 1700,
     "status": "ok",
     "timestamp": 1667178828947,
     "user": {
      "displayName": "Eunji Song",
      "userId": "02630850563491596195"
     },
     "user_tz": 420
    },
    "id": "jVgpNt6HO1p-"
   },
   "outputs": [],
   "source": [
    "\n",
    "syllModel = Word2Vec.load(syll_model_path)\n",
    "wordModel = Word2Vec.load(word_model_path)\n",
    "\n",
    "'''\n",
    "lyrics = [['Then','Then'],['the','the'],['rain','rainstorm'],['storm','rainstorm'],['came','came'],\n",
    "          ['ov','over'],['er','over'],['me','me'],['and','and'],['i','i'],['felt','felt'],['my','my'],\n",
    "          ['spi','spirit'],['rit','spirit'],['break','break']]\n",
    "lyrics = [['E','Everywhere'],['very','Everywhere'],['where','Everywhere'],['I','I'],['look','look'],\n",
    "         ['I','I'],['found','found'],['you','you'],['look','looking'],['king','looking'],['back','back']]\n",
    "\n",
    "lyrics = [['Must','Must'],['have','have'],['been','been'],['love','love'],\n",
    "          ['but','but'],['its','its'],['o','over'],['ver','over'],['now','now'],['lay','lay'],['a','a'],\n",
    "          ['whis','whisper'],['per','whisper'],['on','on'],['my','my'],['pil','pillow'],['low','pillow']]\n",
    "'''\n",
    "lyrics = [['You','You'],['turn','turn'],['my','my'],['nights','nights'],\n",
    "          ['in','into'],['to','into'],['days','days'],['Lead','Lead'],['me','me'],['mys','mysterious'],['te','mysterious'],\n",
    "          ['ri','mysterious'],['ous','mysterious'],['ways','ways']]\n",
    "\n",
    "length_song = len(lyrics)\n",
    "cond = []\n",
    "\n",
    "for i in range(20):\n",
    "    if i < length_song:\n",
    "        syll2Vec = syllModel.wv[lyrics[i][0]]\n",
    "        word2Vec = wordModel.wv[lyrics[i][1]]\n",
    "        cond.append(np.concatenate((syll2Vec,word2Vec)))\n",
    "    else:\n",
    "        cond.append(np.concatenate((syll2Vec,word2Vec)))\n",
    "\n",
    "\n",
    "flattened_cond = []\n",
    "for x in cond:\n",
    "    for y in x:\n",
    "        flattened_cond.append(y)\n"
   ]
  },
  {
   "cell_type": "code",
   "execution_count": 9,
   "metadata": {
    "colab": {
     "base_uri": "https://localhost:8080/"
    },
    "executionInfo": {
     "elapsed": 17174,
     "status": "ok",
     "timestamp": 1667178846120,
     "user": {
      "displayName": "Eunji Song",
      "userId": "02630850563491596195"
     },
     "user_tz": 420
    },
    "id": "yaA38HuhO1p_",
    "outputId": "d76acec6-cc64-4eb6-ef45-187573e39429"
   },
   "outputs": [
    {
     "name": "stderr",
     "output_type": "stream",
     "text": [
      "WARNING:tensorflow:From <ipython-input-9-9958c6896d97>:8: load (from tensorflow.python.saved_model.loader_impl) is deprecated and will be removed in a future version.\n",
      "Instructions for updating:\n",
      "This function will only be available through the v1 compatibility library as tf.compat.v1.saved_model.loader.load or tf.compat.v1.saved_model.load. There will be a new function for importing SavedModels in Tensorflow 2.0.\n"
     ]
    },
    {
     "name": "stdout",
     "output_type": "stream",
     "text": [
      "done\n"
     ]
    }
   ],
   "source": [
    "\n",
    "model_path = './saved_gan_models/saved_model_best_overall_mmd'\n",
    "# model_path = './saved_gan_models/saved_model_end_of_training'\n",
    "\n",
    "x_list = []\n",
    "y_list = []\n",
    "\n",
    "with tf.compat.v1.Session(graph=tf.Graph()) as sess:\n",
    "    tf.compat.v1.saved_model.loader.load(sess, [], model_path)\n",
    "    graph = tf.compat.v1.get_default_graph()\n",
    "    keep_prob = graph.get_tensor_by_name(\"model/keep_prob:0\")\n",
    "    input_metadata = graph.get_tensor_by_name(\"model/input_metadata:0\")\n",
    "    input_songdata = graph.get_tensor_by_name(\"model/input_data:0\")\n",
    "    output_midi = graph.get_tensor_by_name(\"output_midi:0\")\n",
    "    feed_dict = {}\n",
    "    feed_dict[keep_prob.name] = 1.0\n",
    "    condition = []\n",
    "    feed_dict[input_metadata.name] = condition\n",
    "    feed_dict[input_songdata.name] = np.random.uniform(size=(1, 20, 3))\n",
    "    condition.append(np.split(np.asarray(flattened_cond), 20))\n",
    "    feed_dict[input_metadata.name] = condition\n",
    "    generated_features = sess.run(output_midi, feed_dict)\n",
    "    sample = [x[0, :] for x in generated_features]\n",
    "    sample = midi_statistics.tune_song(utils.discretize(sample))\n",
    "    midi_pattern = utils.create_midi_pattern_from_discretized_data(sample[0:length_song])\n",
    "    destination = \"test.mid\"\n",
    "    midi_pattern.write(destination)\n",
    "    \n",
    "    print('done')\n"
   ]
  },
  {
   "cell_type": "code",
   "execution_count": 10,
   "metadata": {
    "colab": {
     "base_uri": "https://localhost:8080/"
    },
    "executionInfo": {
     "elapsed": 12,
     "status": "ok",
     "timestamp": 1667178846120,
     "user": {
      "displayName": "Eunji Song",
      "userId": "02630850563491596195"
     },
     "user_tz": 420
    },
    "id": "dH4PmtWXO1qA",
    "outputId": "d572ed02-6f02-44a4-f77a-299eba1818de"
   },
   "outputs": [
    {
     "name": "stdout",
     "output_type": "stream",
     "text": [
      "[array([75. ,  1.5,  8. ]), array([72.,  1.,  0.]), array([75.,  1.,  1.]), array([77. ,  1.5,  0. ]), array([77.,  1.,  0.]), array([70. ,  1.5,  0. ]), array([72.,  1.,  0.]), array([70.,  1.,  0.]), array([70. ,  1.5,  0. ]), array([68.,  1.,  0.]), array([68.,  1.,  0.]), array([67.  ,  0.75,  0.  ]), array([65.  ,  0.25,  1.  ]), array([65.,  1.,  0.]), array([63.,  1.,  0.]), array([63.,  1.,  0.]), array([63.,  1.,  0.]), array([63.,  1.,  0.]), array([63.,  1.,  0.]), array([63.,  1.,  0.])]\n"
     ]
    }
   ],
   "source": [
    "print(sample)"
   ]
  },
  {
   "cell_type": "code",
   "execution_count": 10,
   "metadata": {
    "executionInfo": {
     "elapsed": 10,
     "status": "ok",
     "timestamp": 1667178846120,
     "user": {
      "displayName": "Eunji Song",
      "userId": "02630850563491596195"
     },
     "user_tz": 420
    },
    "id": "NrnCl0pG1HE_"
   },
   "outputs": [],
   "source": []
  }
 ],
 "metadata": {
  "colab": {
   "collapsed_sections": [],
   "provenance": []
  },
  "kernelspec": {
   "display_name": "Python 3 (ipykernel)",
   "language": "python",
   "name": "python3"
  },
  "language_info": {
   "codemirror_mode": {
    "name": "ipython",
    "version": 3
   },
   "file_extension": ".py",
   "mimetype": "text/x-python",
   "name": "python",
   "nbconvert_exporter": "python",
   "pygments_lexer": "ipython3",
   "version": "3.9.13"
  }
 },
 "nbformat": 4,
 "nbformat_minor": 1
}
