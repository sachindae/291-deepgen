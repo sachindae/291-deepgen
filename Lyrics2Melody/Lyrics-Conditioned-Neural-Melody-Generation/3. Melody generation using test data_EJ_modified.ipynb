{
 "cells": [
  {
   "cell_type": "code",
   "execution_count": null,
   "metadata": {
    "id": "WaHXkvq55rSV"
   },
   "outputs": [],
   "source": [
    "\n",
    "# This notebook is used to generate triplet of music attributes (melody) for lyrics in the test data.\n"
   ]
  },
  {
   "cell_type": "code",
   "execution_count": 2,
   "metadata": {
    "id": "j0IBfa865rSY"
   },
   "outputs": [],
   "source": [
    "\n",
    "import numpy as np\n",
    "import tensorflow as tf\n",
    "import midi_statistics\n",
    "import utils\n",
    "import pickle\n",
    "import matplotlib.pyplot as plt\n"
   ]
  },
  {
   "cell_type": "code",
   "execution_count": 3,
   "metadata": {
    "id": "Ci202mXnDOx_"
   },
   "outputs": [],
   "source": [
    "def do_generate_songs(model_path, data):\n",
    "  generated_songs = []\n",
    "\n",
    "  model_stats = {}\n",
    "  model_stats['stats_scale_tot'] = 0\n",
    "  model_stats['stats_repetitions_2_tot'] = 0\n",
    "  model_stats['stats_repetitions_3_tot'] = 0\n",
    "  model_stats['stats_span_tot'] = 0\n",
    "  model_stats['stats_unique_tones_tot'] = 0\n",
    "  model_stats['stats_avg_rest_tot'] = 0\n",
    "  model_stats['num_of_null_rest_tot'] = 0\n",
    "  model_stats['best_scale_score'] = 0\n",
    "  model_stats['best_repetitions_2'] = 0\n",
    "  model_stats['best_repetitions_3'] = 0\n",
    "  model_stats['num_perfect_scale'] = 0\n",
    "  model_stats['num_good_songs'] = 0\n",
    "  model_stats['avg_songlength'] = 0\n",
    "\n",
    "  with tf.compat.v1.Session(graph=tf.Graph()) as sess:\n",
    "      tf.compat.v1.saved_model.loader.load(sess, [], model_path)\n",
    "      graph = tf.compat.v1.get_default_graph()\n",
    "      keep_prob = graph.get_tensor_by_name(\"model/keep_prob:0\")\n",
    "      input_metadata = graph.get_tensor_by_name(\"model/input_metadata:0\")\n",
    "      input_songdata = graph.get_tensor_by_name(\"model/input_data:0\")\n",
    "      output_midi = graph.get_tensor_by_name(\"output_midi:0\")\n",
    "      feed_dict = {}\n",
    "      feed_dict[keep_prob.name] = 1\n",
    "      condition = []\n",
    "      feed_dict[input_metadata.name] = condition\n",
    "\n",
    "\n",
    "      for i in range(len(data)):\n",
    "          feed_dict[input_songdata.name] = np.random.uniform(size=(1, 20, 3))\n",
    "          condition.append(np.split(data[i][3 * 20:], 20))\n",
    "          feed_dict[input_metadata.name] = condition\n",
    "          generated_features = sess.run(output_midi, feed_dict)\n",
    "          sample = [x[0, :] for x in generated_features]\n",
    "          sample = midi_statistics.tune_song(utils.discretize(sample))\n",
    "          generated_songs.append(sample)\n",
    "          condition = []\n",
    "\n",
    "          # get stats\n",
    "          stats = midi_statistics.get_all_stats(sample)\n",
    "          model_stats['stats_scale_tot'] += stats['scale_score']\n",
    "          model_stats['stats_repetitions_2_tot'] += float(stats['repetitions_2'])\n",
    "          model_stats['stats_repetitions_3_tot'] += float(stats['repetitions_3'])\n",
    "          model_stats['stats_unique_tones_tot'] += float(stats['tones_unique'])\n",
    "          model_stats['stats_span_tot'] += stats['tone_span']\n",
    "          model_stats['stats_avg_rest_tot'] += stats['average_rest']\n",
    "          model_stats['num_of_null_rest_tot'] += stats['num_null_rest']\n",
    "          model_stats['best_scale_score'] = max(stats['scale_score'], model_stats['best_scale_score'])\n",
    "          model_stats['best_repetitions_2'] = max(stats['repetitions_2'], model_stats['best_repetitions_2'])\n",
    "          model_stats['best_repetitions_3'] = max(stats['repetitions_3'], model_stats['best_repetitions_3'])\n",
    "          model_stats['avg_songlength'] += stats['songlength']\n",
    "\n",
    "          if stats['scale_score'] == 1.0 and stats['tones_unique'] > 3 \\\n",
    "              and stats['tone_span'] > 4 and stats['num_null_rest'] > 8 and stats['tone_span'] < 13\\\n",
    "              and stats['repetitions_2'] > 4:\n",
    "              model_stats['num_good_songs'] += 1\n",
    "      \n",
    "      model_stats['avg_songlength'] /= len(data)\n",
    "\n",
    "  return generated_songs, model_stats"
   ]
  },
  {
   "cell_type": "code",
   "execution_count": 8,
   "metadata": {
    "id": "RM-Nmh21a_g8"
   },
   "outputs": [
    {
     "data": {
      "text/plain": [
       "(11149, 460)"
      ]
     },
     "execution_count": 8,
     "metadata": {},
     "output_type": "execute_result"
    }
   ],
   "source": [
    "\n",
    "train_data = np.load('./data/processed_dataset_matrices/train_data_matrix.npy')\n",
    "\n",
    "train_data.shape\n"
   ]
  },
  {
   "cell_type": "code",
   "execution_count": 10,
   "metadata": {},
   "outputs": [
    {
     "data": {
      "text/plain": [
       "array([76.  ,  0.25,  0.  , 76.  ,  0.75,  0.  , 76.  ,  0.25,  0.  ,\n",
       "       76.  ,  3.  ,  1.  , 72.  ,  1.  ,  8.  , 77.  ,  2.  ,  0.  ,\n",
       "       76.  ,  1.  ,  0.  , 72.  ,  3.  ,  0.  , 76.  ,  1.  ,  8.  ,\n",
       "       74.  ,  0.5 ,  0.  , 74.  ,  1.  ,  0.  , 72.  ,  4.  ,  0.  ,\n",
       "       76.  ,  1.  ,  1.  , 74.  ,  1.  ,  0.  , 74.  ,  1.  ,  0.  ,\n",
       "       72.  ,  4.  ,  0.  , 76.  ,  2.  ,  1.  , 74.  ,  0.75,  0.  ,\n",
       "       74.  ,  1.  ,  0.  , 72.  ,  6.  ,  0.  ])"
      ]
     },
     "execution_count": 10,
     "metadata": {},
     "output_type": "execute_result"
    }
   ],
   "source": [
    "train_data[0,:60]"
   ]
  },
  {
   "cell_type": "code",
   "execution_count": 11,
   "metadata": {},
   "outputs": [
    {
     "data": {
      "text/plain": [
       "array([ 7.10338640e+00,  1.01343184e+01, -8.97774506e+00,  1.16764927e+00,\n",
       "       -1.01303831e-01, -1.92353711e-01, -5.53583145e+00,  5.58647253e-02,\n",
       "       -3.52456355e+00, -2.06991649e+00, -3.06762671e+00,  1.65503082e+01,\n",
       "       -7.76225424e+00, -1.20424576e+01,  9.88166046e+00,  4.82475710e+00,\n",
       "       -1.55747509e+01, -2.14776802e+00, -2.74804473e-01, -4.67991924e+00,\n",
       "       -5.83118320e-01, -3.85189623e-01, -7.00767136e+00,  3.96358371e+00,\n",
       "        2.61698842e+00, -2.98423290e-01,  1.41342327e-01,  3.52733791e-01,\n",
       "        2.75696182e+00, -4.43324184e+00, -2.93441081e+00,  2.23827600e+00,\n",
       "        1.28789127e+00, -1.71256351e+00, -3.00144887e+00, -2.18054795e+00,\n",
       "       -3.14800715e+00,  4.40390635e+00, -3.03551364e+00, -6.88842773e-01,\n",
       "       -3.20523620e-01, -2.64736629e+00, -7.11456680e+00,  3.66899800e+00,\n",
       "        2.11378002e+00,  1.50973582e+00,  9.35248756e+00, -2.81228352e+00,\n",
       "        2.32891154e+00, -2.23388910e+00, -1.48912983e+01,  4.85247552e-01,\n",
       "        2.82039142e+00, -5.30579329e+00, -1.52837777e+00, -2.13193750e+00,\n",
       "       -1.45604527e+00,  5.04935598e+00, -8.25253296e+00, -7.63143122e-01,\n",
       "       -3.63101673e+00, -1.42187119e+00, -4.20953608e+00, -3.58614624e-01,\n",
       "        3.16415286e+00, -2.30112076e+00, -7.23624825e-01, -9.82614875e-01,\n",
       "        2.39304090e+00, -2.92194414e+00, -2.00751448e+00, -8.90033662e-01,\n",
       "       -1.86031938e-01,  1.37090194e+00, -5.44204175e-01, -5.70410550e-01,\n",
       "       -5.42517471e+00,  3.56720400e+00, -1.52119195e+00,  1.79272079e+00,\n",
       "       -1.18257307e-01,  9.67079341e-01, -4.33239079e+00,  2.89141893e+00,\n",
       "        2.72952580e+00,  2.11938858e+00, -2.82493949e-01, -9.27940071e-01,\n",
       "        4.65675414e-01, -2.87214017e+00, -2.80792189e+00, -1.98112339e-01,\n",
       "       -2.20345116e+00, -2.52402544e-01, -4.29772615e+00, -4.82918508e-02,\n",
       "       -6.78116262e-01,  1.76826966e+00, -2.37945461e+00, -5.48138189e+00,\n",
       "        2.68625998e+00,  1.29553363e-01, -6.36058033e-01,  4.20098019e+00,\n",
       "        1.70242548e-01, -6.95826244e+00, -6.32980633e+00, -3.71303988e+00,\n",
       "       -2.92083764e+00,  5.68848073e-01, -2.12375546e+00, -3.53684366e-01,\n",
       "       -1.77260125e+00,  1.38858020e+00,  1.42011195e-02,  1.39984274e+00,\n",
       "       -1.76392734e-01, -2.47874522e+00, -5.41612244e+00, -8.97305846e-01,\n",
       "       -1.30442250e+00, -6.34565532e-01, -5.89926624e+00,  3.27279663e+00,\n",
       "       -4.21251440e+00, -1.04501209e+01, -4.95686150e+00, -3.58975315e+00,\n",
       "        1.06668544e+00,  1.37619686e+00, -2.12375546e+00, -3.53684366e-01,\n",
       "       -1.77260125e+00,  1.38858020e+00,  1.42011195e-02,  1.39984274e+00,\n",
       "       -1.76392734e-01, -2.47874522e+00, -5.41612244e+00, -8.97305846e-01,\n",
       "       -2.02974582e+00, -1.42922330e+00, -5.66755867e+00,  2.14986429e-01,\n",
       "        2.76484561e+00, -8.33126187e-01, -4.94430214e-01, -3.92926764e+00,\n",
       "       -6.13640063e-02,  4.52729851e-01, -3.92965460e+00,  1.26530588e+00,\n",
       "       -1.68195665e+00,  2.72572422e+00, -2.10711861e+00,  2.49967098e+00,\n",
       "       -2.98190355e+00,  1.65107138e-02, -4.58384657e+00,  8.92359793e-01,\n",
       "        1.42119443e+00,  3.93794370e+00,  1.41057968e+00,  3.27801198e-01,\n",
       "        5.72910929e+00,  7.25142908e+00, -1.18055344e+00, -4.33744860e+00,\n",
       "        1.99161172e+00,  6.01821327e+00, -5.24262953e+00,  5.56558990e+00,\n",
       "       -1.96609581e+00, -3.27464962e+00, -2.21175623e+00, -6.98161936e+00,\n",
       "       -7.42415190e-01, -1.08589230e+01,  1.37255001e+00, -2.71016836e+00,\n",
       "        6.52180552e-01,  3.11121106e+00, -6.62514687e-01,  8.49505067e-01,\n",
       "        2.25811338e+00,  4.09372300e-01,  1.37407792e+00, -3.65102172e+00,\n",
       "       -6.72860861e-01, -1.33443522e+00, -2.63159215e-01, -2.23438978e+00,\n",
       "       -2.60003209e+00, -1.36809945e+00,  1.80901849e+00,  2.12087631e+00,\n",
       "       -2.23485678e-01,  1.04548883e+00, -5.08366406e-01, -3.34641051e+00,\n",
       "       -7.33602381e+00,  4.94029045e-01,  4.63930464e+00, -2.70097876e+00,\n",
       "        2.05713463e+00,  5.39289999e+00,  3.50247645e+00,  1.01111424e+00,\n",
       "        6.62494421e-01, -5.98043394e+00,  1.78345454e+00, -1.73638904e+00,\n",
       "        2.04927802e+00,  1.16585827e+00, -2.86905378e-01, -4.16203260e+00,\n",
       "       -2.28056455e+00, -9.59798813e-01,  3.54179740e+00,  5.38541257e-01,\n",
       "       -4.59483004e+00, -5.99951863e-01,  8.27581501e+00,  5.08507252e+00,\n",
       "        3.51921749e+00,  3.62422252e+00,  6.68224216e-01,  2.52114630e+00,\n",
       "        3.96846771e+00, -7.92315722e+00,  1.78345454e+00, -1.73638904e+00,\n",
       "        2.04927802e+00,  1.16585827e+00, -2.86905378e-01, -4.16203260e+00,\n",
       "       -2.28056455e+00, -9.59798813e-01,  3.54179740e+00,  5.38541257e-01,\n",
       "        4.07460004e-01,  2.68526673e+00,  6.02415996e-03, -1.45504272e+00,\n",
       "        2.79960203e+00, -1.84948123e+00,  1.22839153e+00, -3.88964367e+00,\n",
       "        2.51482081e+00,  2.75411773e+00, -3.49957943e-01, -8.53919268e-01,\n",
       "       -2.07379723e+00,  1.20476806e+00,  2.80269766e+00, -7.92571083e-02,\n",
       "       -1.42882156e+00, -5.37944078e+00, -3.59821105e+00, -7.05962241e-01,\n",
       "        3.49527687e-01,  4.82655907e+00,  5.87754190e-01,  1.45417050e-01,\n",
       "        5.39068604e+00, -2.20622525e-01, -2.06831384e+00, -1.01249981e+00,\n",
       "        3.90811706e+00, -2.09611273e+00, -2.35531616e+00, -2.46663117e+00,\n",
       "       -4.98720229e-01,  1.70156106e-01,  2.02750540e+00, -2.40977001e+00,\n",
       "       -5.28281069e+00, -1.30758488e+00, -2.52402663e+00, -4.61447096e+00,\n",
       "        3.64240932e+00,  2.05227160e+00,  5.62616301e+00,  9.14867461e-01,\n",
       "        5.99927664e+00, -3.83599329e+00,  1.38601625e+00, -3.31503844e+00,\n",
       "       -2.15454586e-02, -1.99592245e+00, -1.83001482e+00, -1.79901659e+00,\n",
       "        4.55466866e-01, -4.59503353e-01,  5.95116901e+00, -1.42822802e-01,\n",
       "       -4.54100323e+00, -1.91390252e+00, -2.43163615e-01,  1.14474106e+00,\n",
       "        5.28301144e+00, -9.54807186e+00,  7.62258917e-02, -1.54753238e-01,\n",
       "        4.94009882e-01, -6.58339882e+00,  4.73369169e+00, -2.06177145e-01,\n",
       "       -1.50923097e+00,  6.87912560e+00, -1.83001482e+00, -1.79901659e+00,\n",
       "        4.55466866e-01, -4.59503353e-01,  5.95116901e+00, -1.42822802e-01,\n",
       "       -4.54100323e+00, -1.91390252e+00, -2.43163615e-01,  1.14474106e+00,\n",
       "        8.01984251e-01, -5.46811771e+00, -5.59636736e+00,  4.19521952e+00,\n",
       "        6.39833021e+00, -9.41608250e-01, -9.85138535e-01, -9.11844894e-03,\n",
       "        3.70741796e+00, -2.12912276e-01, -5.88751030e+00,  6.24380529e-01,\n",
       "       -8.27663481e-01, -2.80269176e-01, -4.75366211e+00, -6.12718344e+00,\n",
       "       -2.68989229e+00,  8.74071002e-01, -1.79868245e+00,  3.99265218e+00,\n",
       "        3.13262439e+00,  3.61811900e+00,  7.00860679e-01,  2.93577850e-01,\n",
       "        2.38656020e+00, -1.82586491e+00,  2.40023232e+00, -1.74429297e+00,\n",
       "        9.75633085e-01, -9.01530802e-01,  1.22637379e+00, -8.21152985e-01,\n",
       "       -9.41825509e-01, -2.10475850e+00,  2.40686774e+00, -5.12060761e-01,\n",
       "        1.13041759e+00, -1.57780266e+00, -2.80522633e+00, -2.43009853e+00,\n",
       "        6.53237164e-01, -6.05011034e+00,  2.03167129e+00,  5.38090765e-01,\n",
       "        7.29203749e+00, -7.50496960e+00,  1.94565207e-01, -1.89754653e+00,\n",
       "        2.14797538e-03, -2.92827964e+00,  2.26091599e+00, -3.88470578e+00,\n",
       "        1.49071872e-01, -1.47870958e-01,  5.07374430e+00,  6.86678946e-01,\n",
       "        9.50136125e-01, -1.15387583e+00, -6.36105776e+00, -8.55864361e-02,\n",
       "        4.78271770e+00, -6.99966812e+00, -3.93732333e+00,  2.17365956e+00,\n",
       "       -5.45142937e+00, -2.69669676e+00,  6.52458477e+00, -3.90944749e-01,\n",
       "       -8.58080101e+00,  1.57649589e+00,  2.26091599e+00, -3.88470578e+00,\n",
       "        1.49071872e-01, -1.47870958e-01,  5.07374430e+00,  6.86678946e-01,\n",
       "        9.50136125e-01, -1.15387583e+00, -6.36105776e+00, -8.55864361e-02])"
      ]
     },
     "execution_count": 11,
     "metadata": {},
     "output_type": "execute_result"
    }
   ],
   "source": [
    "train_data[0,60:]"
   ]
  },
  {
   "cell_type": "code",
   "execution_count": 4,
   "metadata": {
    "colab": {
     "base_uri": "https://localhost:8080/"
    },
    "executionInfo": {
     "elapsed": 161,
     "status": "ok",
     "timestamp": 1667169812621,
     "user": {
      "displayName": "Eunji Song",
      "userId": "02630850563491596195"
     },
     "user_tz": 420
    },
    "id": "h_kaPz4g5rSY",
    "outputId": "520f6768-18af-437e-a2b2-2f9c0f4925a9"
   },
   "outputs": [
    {
     "data": {
      "text/plain": [
       "(1051, 460)"
      ]
     },
     "execution_count": 4,
     "metadata": {},
     "output_type": "execute_result"
    }
   ],
   "source": [
    "\n",
    "test_data = np.load('./data/processed_dataset_matrices/test_data_matrix.npy')\n",
    "\n",
    "test_data.shape\n"
   ]
  },
  {
   "cell_type": "code",
   "execution_count": null,
   "metadata": {
    "id": "1-PoiyradUdH"
   },
   "outputs": [],
   "source": []
  },
  {
   "cell_type": "code",
   "execution_count": 5,
   "metadata": {
    "id": "mNksIqXwbry0"
   },
   "outputs": [],
   "source": [
    "def get_all_stats_from_array(d_midi):\n",
    "    _num_midi_features = 3\n",
    "    _seq_length = int(len(d_midi) / _num_midi_features)\n",
    "    stats = {}\n",
    "    tones = []\n",
    "    note_type = []\n",
    "    rest = []\n",
    "    for i in range(_seq_length):\n",
    "        tones.append(d_midi[i*_num_midi_features+0])\n",
    "    for i in range(_seq_length):\n",
    "        note_type.append(d_midi[i*_num_midi_features+1])\n",
    "    for i in range(_seq_length):\n",
    "        rest.append(d_midi[i*_num_midi_features+2])\n",
    "    if len(tones) == 0:\n",
    "        print('This is an empty song.')\n",
    "        return None\n",
    "    stats['num_tones'] = len(tones)\n",
    "    stats['tone_min'] = min(tones)\n",
    "    stats['tone_max'] = max(tones)\n",
    "    stats['tone_span'] = max(tones)-min(tones)\n",
    "    stats['tones_unique'] = len(set(tones))\n",
    "    rs = midi_statistics.repetitions(tones)\n",
    "    for r in range(2, 10):\n",
    "        if r in rs:\n",
    "          stats['repetitions_{}'.format(r)] = rs[r]\n",
    "        else:\n",
    "          stats['repetitions_{}'.format(r)] = 0\n",
    "    ml = midi_statistics.max_likelihood_scale(tones)\n",
    "    stats['scale'] = ml[0]\n",
    "    stats['scale_score'] = ml[1]\n",
    "    stats['rest_max'] = max(rest)\n",
    "    stats['average_rest'] = np.mean(rest)\n",
    "    stats['num_null_rest'] = rest.count(0)\n",
    "    stats['songlength'] = sum(rest) + sum(note_type)\n",
    "\n",
    "    return stats"
   ]
  },
  {
   "cell_type": "code",
   "execution_count": 6,
   "metadata": {
    "id": "0DfAGCfvaApr"
   },
   "outputs": [],
   "source": [
    "def analyze_ground_truth(data):\n",
    "  # for each data[i], data[i][:60] is the midi data. the rest is the lyrics data\n",
    "  model_stats = {}\n",
    "  model_stats['stats_scale_tot'] = 0\n",
    "  model_stats['stats_repetitions_2_tot'] = 0\n",
    "  model_stats['stats_repetitions_3_tot'] = 0\n",
    "  model_stats['stats_span_tot'] = 0\n",
    "  model_stats['stats_unique_tones_tot'] = 0\n",
    "  model_stats['stats_avg_rest_tot'] = 0\n",
    "  model_stats['num_of_null_rest_tot'] = 0\n",
    "  model_stats['best_scale_score'] = 0\n",
    "  model_stats['best_repetitions_2'] = 0\n",
    "  model_stats['best_repetitions_3'] = 0\n",
    "  model_stats['num_perfect_scale'] = 0\n",
    "  model_stats['num_good_songs'] = 0\n",
    "  model_stats['avg_songlength'] = 0\n",
    "\n",
    "  for d in data:\n",
    "    d_midi = d[:60]\n",
    "    stats = get_all_stats_from_array(d_midi)\n",
    "    # get stats\n",
    "    model_stats['stats_scale_tot'] += stats['scale_score']\n",
    "    model_stats['stats_repetitions_2_tot'] += float(stats['repetitions_2'])\n",
    "    model_stats['stats_repetitions_3_tot'] += float(stats['repetitions_3'])\n",
    "    model_stats['stats_unique_tones_tot'] += float(stats['tones_unique'])\n",
    "    model_stats['stats_span_tot'] += stats['tone_span']\n",
    "    model_stats['stats_avg_rest_tot'] += stats['average_rest']\n",
    "    model_stats['num_of_null_rest_tot'] += stats['num_null_rest']\n",
    "    model_stats['best_scale_score'] = max(stats['scale_score'], model_stats['best_scale_score'])\n",
    "    model_stats['best_repetitions_2'] = max(stats['repetitions_2'], model_stats['best_repetitions_2'])\n",
    "    model_stats['best_repetitions_3'] = max(stats['repetitions_3'], model_stats['best_repetitions_3'])\n",
    "    model_stats['avg_songlength'] += stats['songlength']\n",
    "\n",
    "    if stats['scale_score'] == 1.0 and stats['tones_unique'] > 3 \\\n",
    "        and stats['tone_span'] > 4 and stats['num_null_rest'] > 8 and stats['tone_span'] < 13\\\n",
    "        and stats['repetitions_2'] > 4:\n",
    "        model_stats['num_good_songs'] += 1\n",
    "    \n",
    "  model_stats['avg_songlength'] /= len(data)\n",
    "\n",
    "  return model_stats"
   ]
  },
  {
   "cell_type": "code",
   "execution_count": 7,
   "metadata": {
    "id": "Iuv5XTCoclOn"
   },
   "outputs": [
    {
     "ename": "NameError",
     "evalue": "name 'valid_data' is not defined",
     "output_type": "error",
     "traceback": [
      "\u001b[1;31m---------------------------------------------------------------------------\u001b[0m",
      "\u001b[1;31mNameError\u001b[0m                                 Traceback (most recent call last)",
      "\u001b[1;32m~\\AppData\\Local\\Temp\\ipykernel_35916\\2971641238.py\u001b[0m in \u001b[0;36m<module>\u001b[1;34m\u001b[0m\n\u001b[0;32m      1\u001b[0m \u001b[0mtest_gt_stats\u001b[0m \u001b[1;33m=\u001b[0m \u001b[0manalyze_ground_truth\u001b[0m\u001b[1;33m(\u001b[0m\u001b[0mtest_data\u001b[0m\u001b[1;33m)\u001b[0m\u001b[1;33m\u001b[0m\u001b[1;33m\u001b[0m\u001b[0m\n\u001b[1;32m----> 2\u001b[1;33m \u001b[0mvalid_gt_stats\u001b[0m \u001b[1;33m=\u001b[0m \u001b[0manalyze_ground_truth\u001b[0m\u001b[1;33m(\u001b[0m\u001b[0mvalid_data\u001b[0m\u001b[1;33m)\u001b[0m\u001b[1;33m\u001b[0m\u001b[1;33m\u001b[0m\u001b[0m\n\u001b[0m\u001b[0;32m      3\u001b[0m \u001b[0mtrain_gt_stats\u001b[0m \u001b[1;33m=\u001b[0m \u001b[0manalyze_ground_truth\u001b[0m\u001b[1;33m(\u001b[0m\u001b[0mtrain_data\u001b[0m\u001b[1;33m)\u001b[0m\u001b[1;33m\u001b[0m\u001b[1;33m\u001b[0m\u001b[0m\n",
      "\u001b[1;31mNameError\u001b[0m: name 'valid_data' is not defined"
     ]
    }
   ],
   "source": [
    "test_gt_stats = analyze_ground_truth(test_data)\n",
    "valid_gt_stats = analyze_ground_truth(valid_data)\n",
    "train_gt_stats = analyze_ground_truth(train_data)"
   ]
  },
  {
   "cell_type": "code",
   "execution_count": null,
   "metadata": {
    "colab": {
     "base_uri": "https://localhost:8080/"
    },
    "executionInfo": {
     "elapsed": 11,
     "status": "ok",
     "timestamp": 1667177060473,
     "user": {
      "displayName": "Eunji Song",
      "userId": "02630850563491596195"
     },
     "user_tz": 420
    },
    "id": "fJi1MfINeTC1",
    "outputId": "dd047df1-e209-4987-b101-35e7a659409e"
   },
   "outputs": [
    {
     "data": {
      "text/plain": [
       "({'stats_scale_tot': 1003.4500000000007,\n",
       "  'stats_repetitions_2_tot': 7803.0,\n",
       "  'stats_repetitions_3_tot': 4039.0,\n",
       "  'stats_span_tot': 11326.0,\n",
       "  'stats_unique_tones_tot': 6184.0,\n",
       "  'stats_avg_rest_tot': 815.2499999999987,\n",
       "  'num_of_null_rest_tot': 16380,\n",
       "  'best_scale_score': 1.0,\n",
       "  'best_repetitions_2': 18,\n",
       "  'best_repetitions_3': 17,\n",
       "  'num_perfect_scale': 0,\n",
       "  'num_good_songs': 383,\n",
       "  'avg_songlength': 43.25404376784015},\n",
       " {'stats_scale_tot': 1004.9500000000018,\n",
       "  'stats_repetitions_2_tot': 7889.0,\n",
       "  'stats_repetitions_3_tot': 4086.0,\n",
       "  'stats_span_tot': 10946.0,\n",
       "  'stats_unique_tones_tot': 6155.0,\n",
       "  'stats_avg_rest_tot': 830.8999999999995,\n",
       "  'num_of_null_rest_tot': 16142,\n",
       "  'best_scale_score': 1.0,\n",
       "  'best_repetitions_2': 18,\n",
       "  'best_repetitions_3': 17,\n",
       "  'num_perfect_scale': 0,\n",
       "  'num_good_songs': 416,\n",
       "  'avg_songlength': 43.13796384395813},\n",
       " {'stats_scale_tot': 10642.79999999999,\n",
       "  'stats_repetitions_2_tot': 83330.0,\n",
       "  'stats_repetitions_3_tot': 43417.0,\n",
       "  'stats_span_tot': 117021.0,\n",
       "  'stats_unique_tones_tot': 65534.0,\n",
       "  'stats_avg_rest_tot': 9047.05000000001,\n",
       "  'num_of_null_rest_tot': 171958,\n",
       "  'best_scale_score': 1.0,\n",
       "  'best_repetitions_2': 18,\n",
       "  'best_repetitions_3': 17,\n",
       "  'num_perfect_scale': 0,\n",
       "  'num_good_songs': 4125,\n",
       "  'avg_songlength': 43.337339671719434})"
      ]
     },
     "execution_count": 75,
     "metadata": {},
     "output_type": "execute_result"
    }
   ],
   "source": [
    "test_gt_stats, valid_gt_stats, train_gt_stats"
   ]
  },
  {
   "cell_type": "code",
   "execution_count": null,
   "metadata": {
    "id": "bcyK1P_A5rSZ"
   },
   "outputs": [],
   "source": [
    "model_path = 'saved_gan_models/saved_model_best_overall_mmd'"
   ]
  },
  {
   "cell_type": "code",
   "execution_count": null,
   "metadata": {
    "id": "QY_XtMF4EIrK"
   },
   "outputs": [],
   "source": [
    "test_gen_songs, test_model_stats = do_generate_songs(model_path, test_data)"
   ]
  },
  {
   "cell_type": "code",
   "execution_count": 1,
   "metadata": {
    "colab": {
     "base_uri": "https://localhost:8080/"
    },
    "executionInfo": {
     "elapsed": 1283,
     "status": "ok",
     "timestamp": 1667169889362,
     "user": {
      "displayName": "Eunji Song",
      "userId": "02630850563491596195"
     },
     "user_tz": 420
    },
    "id": "P2V1rDwxEPJ7",
    "outputId": "2c1e9a48-1e96-4f19-c272-dc46dbf1e3db"
   },
   "outputs": [
    {
     "ename": "NameError",
     "evalue": "name 'np' is not defined",
     "output_type": "error",
     "traceback": [
      "\u001b[1;31m---------------------------------------------------------------------------\u001b[0m",
      "\u001b[1;31mNameError\u001b[0m                                 Traceback (most recent call last)",
      "\u001b[1;32m~\\AppData\\Local\\Temp\\ipykernel_35916\\2698021368.py\u001b[0m in \u001b[0;36m<module>\u001b[1;34m\u001b[0m\n\u001b[1;32m----> 1\u001b[1;33m \u001b[0mtrain_data\u001b[0m \u001b[1;33m=\u001b[0m \u001b[0mnp\u001b[0m\u001b[1;33m.\u001b[0m\u001b[0mload\u001b[0m\u001b[1;33m(\u001b[0m\u001b[1;34m'./data/processed_dataset_matrices/train_data_matrix.npy'\u001b[0m\u001b[1;33m)\u001b[0m\u001b[1;33m\u001b[0m\u001b[1;33m\u001b[0m\u001b[0m\n\u001b[0m\u001b[0;32m      2\u001b[0m \u001b[0mtrain_data\u001b[0m\u001b[1;33m.\u001b[0m\u001b[0mshape\u001b[0m\u001b[1;33m\u001b[0m\u001b[1;33m\u001b[0m\u001b[0m\n",
      "\u001b[1;31mNameError\u001b[0m: name 'np' is not defined"
     ]
    }
   ],
   "source": [
    "train_data = np.load('./data/processed_dataset_matrices/train_data_matrix.npy')\n",
    "train_data.shape"
   ]
  },
  {
   "cell_type": "code",
   "execution_count": null,
   "metadata": {
    "colab": {
     "base_uri": "https://localhost:8080/"
    },
    "executionInfo": {
     "elapsed": 565,
     "status": "ok",
     "timestamp": 1667169913120,
     "user": {
      "displayName": "Eunji Song",
      "userId": "02630850563491596195"
     },
     "user_tz": 420
    },
    "id": "2NnPXahuEb6X",
    "outputId": "ee0249e7-b359-4abb-adac-cb8b2436915c"
   },
   "outputs": [
    {
     "data": {
      "text/plain": [
       "(1051, 460)"
      ]
     },
     "execution_count": 17,
     "metadata": {},
     "output_type": "execute_result"
    }
   ],
   "source": [
    "valid_data = np.load('./data/processed_dataset_matrices/valid_data_matrix.npy')\n",
    "valid_data.shape"
   ]
  },
  {
   "cell_type": "code",
   "execution_count": null,
   "metadata": {
    "id": "_c-WBAWhEh1J"
   },
   "outputs": [],
   "source": [
    "valid_gen_songs, valid_model_stats = do_generate_songs(model_path, valid_data)"
   ]
  },
  {
   "cell_type": "code",
   "execution_count": null,
   "metadata": {
    "id": "XRV8fJo8E_cZ"
   },
   "outputs": [],
   "source": [
    "train_gen_songs, train_model_stats = do_generate_songs(model_path, train_data)"
   ]
  },
  {
   "cell_type": "code",
   "execution_count": null,
   "metadata": {
    "colab": {
     "base_uri": "https://localhost:8080/"
    },
    "executionInfo": {
     "elapsed": 12,
     "status": "ok",
     "timestamp": 1667177198110,
     "user": {
      "displayName": "Eunji Song",
      "userId": "02630850563491596195"
     },
     "user_tz": 420
    },
    "id": "HF4ZKvmz5rSZ",
    "outputId": "2c25f0b2-2073-4dd9-df58-97c96fdd3767"
   },
   "outputs": [
    {
     "data": {
      "text/plain": [
       "(1051, 20, 3)"
      ]
     },
     "execution_count": 78,
     "metadata": {},
     "output_type": "execute_result"
    }
   ],
   "source": [
    "test_gen_songs = np.asarray(test_gen_songs)\n",
    "test_gen_songs.shape"
   ]
  },
  {
   "cell_type": "code",
   "execution_count": null,
   "metadata": {
    "colab": {
     "base_uri": "https://localhost:8080/"
    },
    "executionInfo": {
     "elapsed": 20,
     "status": "ok",
     "timestamp": 1667177608786,
     "user": {
      "displayName": "Eunji Song",
      "userId": "02630850563491596195"
     },
     "user_tz": 420
    },
    "id": "54A8UwLiMeJE",
    "outputId": "00cf8d97-6ded-4b48-ab19-15f657e26d77"
   },
   "outputs": [
    {
     "data": {
      "text/plain": [
       "(1051, 20, 3)"
      ]
     },
     "execution_count": 82,
     "metadata": {},
     "output_type": "execute_result"
    }
   ],
   "source": [
    "valid_get_songs = np.asarray(valid_gen_songs)\n",
    "valid_get_songs.shape"
   ]
  },
  {
   "cell_type": "code",
   "execution_count": null,
   "metadata": {
    "colab": {
     "base_uri": "https://localhost:8080/"
    },
    "executionInfo": {
     "elapsed": 9,
     "status": "ok",
     "timestamp": 1667177608786,
     "user": {
      "displayName": "Eunji Song",
      "userId": "02630850563491596195"
     },
     "user_tz": 420
    },
    "id": "G7ixZXqGMlqJ",
    "outputId": "883d2d74-43e1-4ac4-e270-2c9422a5508e"
   },
   "outputs": [
    {
     "data": {
      "text/plain": [
       "(11149, 20, 3)"
      ]
     },
     "execution_count": 83,
     "metadata": {},
     "output_type": "execute_result"
    }
   ],
   "source": [
    "train_get_songs = np.asarray(train_gen_songs)\n",
    "train_get_songs.shape"
   ]
  },
  {
   "cell_type": "code",
   "execution_count": null,
   "metadata": {
    "colab": {
     "base_uri": "https://localhost:8080/"
    },
    "executionInfo": {
     "elapsed": 10,
     "status": "ok",
     "timestamp": 1667177198111,
     "user": {
      "displayName": "Eunji Song",
      "userId": "02630850563491596195"
     },
     "user_tz": 420
    },
    "id": "1og7mKRxB7-K",
    "outputId": "3c9ba0d6-3288-4f1d-de89-94f95c762723"
   },
   "outputs": [
    {
     "data": {
      "text/plain": [
       "{'stats_scale_tot': 1051.0,\n",
       " 'stats_repetitions_2_tot': 6694.0,\n",
       " 'stats_repetitions_3_tot': 2630.0,\n",
       " 'stats_span_tot': 11992.0,\n",
       " 'stats_unique_tones_tot': 6805.0,\n",
       " 'stats_avg_rest_tot': 338.50000000000006,\n",
       " 'num_of_null_rest_tot': 17057,\n",
       " 'best_scale_score': 1.0,\n",
       " 'best_repetitions_2': 14,\n",
       " 'best_repetitions_3': 12,\n",
       " 'num_perfect_scale': 0,\n",
       " 'num_good_songs': 582,\n",
       " 'avg_songlength': 25.955280685061847}"
      ]
     },
     "execution_count": 79,
     "metadata": {},
     "output_type": "execute_result"
    }
   ],
   "source": [
    "test_model_stats"
   ]
  },
  {
   "cell_type": "code",
   "execution_count": null,
   "metadata": {
    "colab": {
     "base_uri": "https://localhost:8080/"
    },
    "executionInfo": {
     "elapsed": 220,
     "status": "ok",
     "timestamp": 1667177609000,
     "user": {
      "displayName": "Eunji Song",
      "userId": "02630850563491596195"
     },
     "user_tz": 420
    },
    "id": "J5cyWe6VE8A0",
    "outputId": "977c5791-7183-4467-ad0e-4c1fd50f1c92"
   },
   "outputs": [
    {
     "data": {
      "text/plain": [
       "{'stats_scale_tot': 1051.0,\n",
       " 'stats_repetitions_2_tot': 6616.0,\n",
       " 'stats_repetitions_3_tot': 2619.0,\n",
       " 'stats_span_tot': 12397.0,\n",
       " 'stats_unique_tones_tot': 6941.0,\n",
       " 'stats_avg_rest_tot': 347.1000000000005,\n",
       " 'num_of_null_rest_tot': 16903,\n",
       " 'best_scale_score': 1.0,\n",
       " 'best_repetitions_2': 15,\n",
       " 'best_repetitions_3': 13,\n",
       " 'num_perfect_scale': 0,\n",
       " 'num_good_songs': 551,\n",
       " 'avg_songlength': 26.238582302568982}"
      ]
     },
     "execution_count": 84,
     "metadata": {},
     "output_type": "execute_result"
    }
   ],
   "source": [
    "valid_model_stats"
   ]
  },
  {
   "cell_type": "code",
   "execution_count": null,
   "metadata": {
    "colab": {
     "base_uri": "https://localhost:8080/"
    },
    "executionInfo": {
     "elapsed": 6,
     "status": "ok",
     "timestamp": 1667177609001,
     "user": {
      "displayName": "Eunji Song",
      "userId": "02630850563491596195"
     },
     "user_tz": 420
    },
    "id": "O48mJp9_FGk8",
    "outputId": "f5e6942e-b6b0-4e23-fe9b-c6c4b921d541"
   },
   "outputs": [
    {
     "data": {
      "text/plain": [
       "{'stats_scale_tot': 11149.0,\n",
       " 'stats_repetitions_2_tot': 70182.0,\n",
       " 'stats_repetitions_3_tot': 27138.0,\n",
       " 'stats_span_tot': 130290.0,\n",
       " 'stats_unique_tones_tot': 73094.0,\n",
       " 'stats_avg_rest_tot': 3476.5500000000447,\n",
       " 'num_of_null_rest_tot': 182102,\n",
       " 'best_scale_score': 1.0,\n",
       " 'best_repetitions_2': 16,\n",
       " 'best_repetitions_3': 14,\n",
       " 'num_perfect_scale': 0,\n",
       " 'num_good_songs': 6100,\n",
       " 'avg_songlength': 25.76015786169163}"
      ]
     },
     "execution_count": 85,
     "metadata": {},
     "output_type": "execute_result"
    }
   ],
   "source": [
    "train_model_stats"
   ]
  },
  {
   "cell_type": "code",
   "execution_count": null,
   "metadata": {
    "colab": {
     "base_uri": "https://localhost:8080/"
    },
    "executionInfo": {
     "elapsed": 177,
     "status": "ok",
     "timestamp": 1667168955588,
     "user": {
      "displayName": "Eunji Song",
      "userId": "02630850563491596195"
     },
     "user_tz": 420
    },
    "id": "lvzsCPmA5rSa",
    "outputId": "09db5908-ff3f-4e82-a0c3-94d30017fd74"
   },
   "outputs": [
    {
     "data": {
      "text/plain": [
       "((1051, 20), (1051, 20), (1051, 20))"
      ]
     },
     "execution_count": 7,
     "metadata": {},
     "output_type": "execute_result"
    }
   ],
   "source": [
    "\n",
    "generated_pitches = generated_songs[:, :, 0]\n",
    "generated_lengths = generated_songs[:, :, 1]\n",
    "generated_rests   = generated_songs[:, :, 2]\n",
    "\n",
    "generated_pitches.shape, generated_lengths.shape, generated_rests.shape\n"
   ]
  },
  {
   "cell_type": "code",
   "execution_count": null,
   "metadata": {
    "id": "YOxECKGbA3yc"
   },
   "outputs": [],
   "source": []
  },
  {
   "cell_type": "code",
   "execution_count": null,
   "metadata": {
    "id": "HNrerBeoA3pI"
   },
   "outputs": [],
   "source": []
  },
  {
   "cell_type": "code",
   "execution_count": null,
   "metadata": {
    "id": "PTKs5uxO5rSa"
   },
   "outputs": [],
   "source": [
    "\n",
    "np.save(model_path + '/generated_songs',   generated_songs)\n",
    "np.save(model_path + '/generated_pitches', generated_pitches)\n",
    "np.save(model_path + '/generated_lengths', generated_lengths)\n",
    "np.save(model_path + '/generated_rests',   generated_rests)\n"
   ]
  },
  {
   "cell_type": "code",
   "execution_count": null,
   "metadata": {
    "id": "SyTndE7t5rSb"
   },
   "outputs": [],
   "source": []
  }
 ],
 "metadata": {
  "colab": {
   "collapsed_sections": [],
   "provenance": []
  },
  "kernelspec": {
   "display_name": "Python 3 (ipykernel)",
   "language": "python",
   "name": "python3"
  },
  "language_info": {
   "codemirror_mode": {
    "name": "ipython",
    "version": 3
   },
   "file_extension": ".py",
   "mimetype": "text/x-python",
   "name": "python",
   "nbconvert_exporter": "python",
   "pygments_lexer": "ipython3",
   "version": "3.9.13"
  }
 },
 "nbformat": 4,
 "nbformat_minor": 1
}
