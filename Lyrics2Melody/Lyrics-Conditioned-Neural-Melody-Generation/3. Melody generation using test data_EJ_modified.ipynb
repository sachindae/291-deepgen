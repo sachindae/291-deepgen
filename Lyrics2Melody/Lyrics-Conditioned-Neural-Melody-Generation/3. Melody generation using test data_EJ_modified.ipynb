{
 "cells": [
  {
   "cell_type": "code",
   "execution_count": null,
   "metadata": {
    "colab": {
     "base_uri": "https://localhost:8080/"
    },
    "executionInfo": {
     "elapsed": 18603,
     "status": "ok",
     "timestamp": 1667168805157,
     "user": {
      "displayName": "Eunji Song",
      "userId": "02630850563491596195"
     },
     "user_tz": 420
    },
    "id": "XGz9zdumAMTw",
    "outputId": "cb6b4666-7bbe-459a-9128-16f94a42eb48"
   },
   "outputs": [
    {
     "name": "stdout",
     "output_type": "stream",
     "text": [
      "Mounted at /content/drive\n"
     ]
    }
   ],
   "source": [
    "from google.colab import drive\n",
    "drive.mount('/content/drive')"
   ]
  },
  {
   "cell_type": "code",
   "execution_count": null,
   "metadata": {
    "colab": {
     "base_uri": "https://localhost:8080/"
    },
    "executionInfo": {
     "elapsed": 11362,
     "status": "ok",
     "timestamp": 1667168824176,
     "user": {
      "displayName": "Eunji Song",
      "userId": "02630850563491596195"
     },
     "user_tz": 420
    },
    "id": "055Wi-B0AQQA",
    "outputId": "bdcffccd-c86c-4227-e962-b5fe78eae6d6"
   },
   "outputs": [
    {
     "name": "stdout",
     "output_type": "stream",
     "text": [
      "/content/drive/Othercomputers/My Laptop/291-deepgen/Lyrics2Melody/Lyrics-Conditioned-Neural-Melody-Generation\n",
      "Looking in indexes: https://pypi.org/simple, https://us-python.pkg.dev/colab-wheels/public/simple/\n",
      "Collecting py-midi\n",
      "  Downloading py_midi-2.0.1-py3-none-any.whl (23 kB)\n",
      "Collecting pyserial\n",
      "  Downloading pyserial-3.5-py2.py3-none-any.whl (90 kB)\n",
      "\u001b[K     |████████████████████████████████| 90 kB 5.8 MB/s \n",
      "\u001b[?25hInstalling collected packages: pyserial, py-midi\n",
      "Successfully installed py-midi-2.0.1 pyserial-3.5\n",
      "Looking in indexes: https://pypi.org/simple, https://us-python.pkg.dev/colab-wheels/public/simple/\n",
      "Collecting pretty_midi\n",
      "  Downloading pretty_midi-0.2.9.tar.gz (5.6 MB)\n",
      "\u001b[K     |████████████████████████████████| 5.6 MB 6.3 MB/s \n",
      "\u001b[?25hRequirement already satisfied: numpy>=1.7.0 in /usr/local/lib/python3.7/dist-packages (from pretty_midi) (1.21.6)\n",
      "Collecting mido>=1.1.16\n",
      "  Downloading mido-1.2.10-py2.py3-none-any.whl (51 kB)\n",
      "\u001b[K     |████████████████████████████████| 51 kB 8.8 MB/s \n",
      "\u001b[?25hRequirement already satisfied: six in /usr/local/lib/python3.7/dist-packages (from pretty_midi) (1.15.0)\n",
      "Building wheels for collected packages: pretty-midi\n",
      "  Building wheel for pretty-midi (setup.py) ... \u001b[?25l\u001b[?25hdone\n",
      "  Created wheel for pretty-midi: filename=pretty_midi-0.2.9-py3-none-any.whl size=5591955 sha256=abed38efa2e8e3cdc66fd67882328c6bbc9ab914878c1bee77d28b81666cfb4e\n",
      "  Stored in directory: /root/.cache/pip/wheels/ad/74/7c/a06473ca8dcb63efb98c1e67667ce39d52100f837835ea18fa\n",
      "Successfully built pretty-midi\n",
      "Installing collected packages: mido, pretty-midi\n",
      "Successfully installed mido-1.2.10 pretty-midi-0.2.9\n"
     ]
    }
   ],
   "source": [
    "%cd /content/drive/Othercomputers/My\\ Laptop/291-deepgen/Lyrics2Melody/Lyrics-Conditioned-Neural-Melody-Generation\n",
    "!pip install py-midi\n",
    "!pip install pretty_midi"
   ]
  },
  {
   "cell_type": "code",
   "execution_count": null,
   "metadata": {
    "id": "WaHXkvq55rSV"
   },
   "outputs": [],
   "source": [
    "\n",
    "# This notebook is used to generate triplet of music attributes (melody) for lyrics in the test data.\n"
   ]
  },
  {
   "cell_type": "code",
   "execution_count": 1,
   "metadata": {
    "id": "j0IBfa865rSY"
   },
   "outputs": [],
   "source": [
    "\n",
    "import numpy as np\n",
    "import tensorflow as tf\n",
    "import midi_statistics\n",
    "import utils\n",
    "import pickle\n",
    "import matplotlib.pyplot as plt\n"
   ]
  },
  {
   "cell_type": "code",
   "execution_count": 2,
   "metadata": {
    "id": "Ci202mXnDOx_"
   },
   "outputs": [],
   "source": [
    "def do_generate_songs(model_path, data):\n",
    "  generated_songs = []\n",
    "\n",
    "  model_stats = {}\n",
    "  model_stats['stats_scale_tot'] = 0\n",
    "  model_stats['stats_repetitions_2_tot'] = 0\n",
    "  model_stats['stats_repetitions_3_tot'] = 0\n",
    "  model_stats['stats_span_tot'] = 0\n",
    "  model_stats['stats_unique_tones_tot'] = 0\n",
    "  model_stats['stats_avg_rest_tot'] = 0\n",
    "  model_stats['num_of_null_rest_tot'] = 0\n",
    "  model_stats['best_scale_score'] = 0\n",
    "  model_stats['best_repetitions_2'] = 0\n",
    "  model_stats['best_repetitions_3'] = 0\n",
    "  model_stats['num_perfect_scale'] = 0\n",
    "  model_stats['num_good_songs'] = 0\n",
    "  model_stats['avg_songlength'] = 0\n",
    "\n",
    "  with tf.compat.v1.Session(graph=tf.Graph()) as sess:\n",
    "      tf.compat.v1.saved_model.loader.load(sess, [], model_path)\n",
    "      graph = tf.compat.v1.get_default_graph()\n",
    "      keep_prob = graph.get_tensor_by_name(\"model/keep_prob:0\")\n",
    "      input_metadata = graph.get_tensor_by_name(\"model/input_metadata:0\")\n",
    "      input_songdata = graph.get_tensor_by_name(\"model/input_data:0\")\n",
    "      output_midi = graph.get_tensor_by_name(\"output_midi:0\")\n",
    "      feed_dict = {}\n",
    "      feed_dict[keep_prob.name] = 1\n",
    "      condition = []\n",
    "      feed_dict[input_metadata.name] = condition\n",
    "\n",
    "\n",
    "      for i in range(len(data)):\n",
    "          feed_dict[input_songdata.name] = np.random.uniform(size=(1, 20, 3))\n",
    "          condition.append(np.split(data[i][3 * 20:], 20))\n",
    "          feed_dict[input_metadata.name] = condition\n",
    "          generated_features = sess.run(output_midi, feed_dict)\n",
    "          sample = [x[0, :] for x in generated_features]\n",
    "          sample = midi_statistics.tune_song(utils.discretize(sample))\n",
    "          generated_songs.append(sample)\n",
    "          condition = []\n",
    "\n",
    "          # get stats\n",
    "          stats = midi_statistics.get_all_stats(sample)\n",
    "          model_stats['stats_scale_tot'] += stats['scale_score']\n",
    "          model_stats['stats_repetitions_2_tot'] += float(stats['repetitions_2'])\n",
    "          model_stats['stats_repetitions_3_tot'] += float(stats['repetitions_3'])\n",
    "          model_stats['stats_unique_tones_tot'] += float(stats['tones_unique'])\n",
    "          model_stats['stats_span_tot'] += stats['tone_span']\n",
    "          model_stats['stats_avg_rest_tot'] += stats['average_rest']\n",
    "          model_stats['num_of_null_rest_tot'] += stats['num_null_rest']\n",
    "          model_stats['best_scale_score'] = max(stats['scale_score'], model_stats['best_scale_score'])\n",
    "          model_stats['best_repetitions_2'] = max(stats['repetitions_2'], model_stats['best_repetitions_2'])\n",
    "          model_stats['best_repetitions_3'] = max(stats['repetitions_3'], model_stats['best_repetitions_3'])\n",
    "          model_stats['avg_songlength'] += stats['songlength']\n",
    "\n",
    "          if stats['scale_score'] == 1.0 and stats['tones_unique'] > 3 \\\n",
    "              and stats['tone_span'] > 4 and stats['num_null_rest'] > 8 and stats['tone_span'] < 13\\\n",
    "              and stats['repetitions_2'] > 4:\n",
    "              model_stats['num_good_songs'] += 1\n",
    "      \n",
    "      model_stats['avg_songlength'] /= len(data)\n",
    "\n",
    "  return generated_songs, model_stats"
   ]
  },
  {
   "cell_type": "code",
   "execution_count": 28,
   "metadata": {
    "id": "RM-Nmh21a_g8"
   },
   "outputs": [
    {
     "data": {
      "text/plain": [
       "((11149, 460), (1051, 460), (1051, 460))"
      ]
     },
     "execution_count": 28,
     "metadata": {},
     "output_type": "execute_result"
    }
   ],
   "source": [
    "train_data = np.load('./data/processed_dataset_matrices/train_data_matrix.npy')\n",
    "valid_data = np.load('./data/processed_dataset_matrices/valid_data_matrix.npy')\n",
    "test_data = np.load('./data/processed_dataset_matrices/test_data_matrix.npy')\n",
    "train_data.shape, valid_data.shape, test_data.shape"
   ]
  },
  {
   "cell_type": "code",
   "execution_count": 29,
   "metadata": {},
   "outputs": [],
   "source": [
    "d_midi_train = train_data[:,:60]\n",
    "d_midi_valid = valid_data[:,:60]\n",
    "d_midi_test = test_data[:,:60]"
   ]
  },
  {
   "cell_type": "code",
   "execution_count": 53,
   "metadata": {},
   "outputs": [],
   "source": [
    "from sklearn.preprocessing import OneHotEncoder"
   ]
  },
  {
   "cell_type": "code",
   "execution_count": 190,
   "metadata": {},
   "outputs": [
    {
     "data": {
      "text/plain": [
       "OneHotEncoder(handle_unknown='ignore')"
      ]
     },
     "execution_count": 190,
     "metadata": {},
     "output_type": "execute_result"
    }
   ],
   "source": [
    "enc = OneHotEncoder(handle_unknown='ignore')\n",
    "enc.fit(d_midi_train)"
   ]
  },
  {
   "cell_type": "code",
   "execution_count": 191,
   "metadata": {},
   "outputs": [],
   "source": [
    "a = enc.transform(d_midi_train).toarray()"
   ]
  },
  {
   "cell_type": "code",
   "execution_count": 199,
   "metadata": {},
   "outputs": [],
   "source": [
    "b = enc.transform(d_midi_valid).toarray()\n",
    "b_inv = enc.inverse_transform(b)"
   ]
  },
  {
   "cell_type": "code",
   "execution_count": 203,
   "metadata": {},
   "outputs": [
    {
     "data": {
      "text/plain": [
       "array([[39.0, 2.0, 0.0, 36.0, 1.0, 0.0, 32.0, 4.0, 0.0, 37.0, 2.0, 0.0,\n",
       "        None, 1.0, 0.0, 37.0, 4.0, 0.0, 39.0, 2.0, 0.0, 27.0, 1.0, 0.0,\n",
       "        39.0, 4.0, 0.0, 32.0, 2.0, 0.0, 32.0, 1.0, 0.0, 32.0, 2.0, 0.0,\n",
       "        32.0, 0.5, 0.0, 42.0, 4.0, 1.0, 41.0, 4.0, 0.0, 30.0, 8.0, 0.0,\n",
       "        32.0, 1.0, 0.0, 32.0, 6.0, 0.0, 29.0, 1.0, 0.0, 41.0, 2.0, 0.0]],\n",
       "      dtype=object)"
      ]
     },
     "execution_count": 203,
     "metadata": {},
     "output_type": "execute_result"
    }
   ],
   "source": [
    "b_inv[13:14]"
   ]
  },
  {
   "cell_type": "code",
   "execution_count": 210,
   "metadata": {},
   "outputs": [
    {
     "data": {
      "text/plain": [
       "array([[39.0, 2.0, 0.0, 36.0, 1.0, 0.0, 32.0, 4.0, 0.0, 37.0, 2.0, 0.0,\n",
       "        None, 1.0, 0.0, 37.0, 4.0, 0.0, 39.0, 2.0, 0.0, 27.0, 1.0, 0.0,\n",
       "        39.0, 4.0, 0.0, 32.0, 2.0, 0.0, 32.0, 1.0, 0.0, 32.0, 2.0, 0.0,\n",
       "        32.0, 0.5, 0.0, 42.0, 4.0, 1.0, 41.0, 4.0, 0.0, 30.0, 8.0, 0.0,\n",
       "        32.0, 1.0, 0.0, 32.0, 6.0, 0.0, 29.0, 1.0, 0.0, 41.0, 2.0, 0.0]],\n",
       "      dtype=object)"
      ]
     },
     "execution_count": 210,
     "metadata": {},
     "output_type": "execute_result"
    }
   ],
   "source": [
    "imputer.transform(b_inv[13:14])"
   ]
  },
  {
   "cell_type": "code",
   "execution_count": 220,
   "metadata": {},
   "outputs": [
    {
     "name": "stderr",
     "output_type": "stream",
     "text": [
      "C:\\Users\\EJ\\anaconda3\\lib\\site-packages\\sklearn\\impute\\_base.py:49: FutureWarning: Unlike other reduction functions (e.g. `skew`, `kurtosis`), the default behavior of `mode` typically preserves the axis it acts along. In SciPy 1.11.0, this behavior will change: the default value of `keepdims` will become False, the `axis` over which the statistic is taken will be eliminated, and the value None will no longer be accepted. Set `keepdims` to True or False to avoid this warning.\n",
      "  mode = stats.mode(array)\n"
     ]
    },
    {
     "data": {
      "text/plain": [
       "array([[39. ,  2. ,  0. , 36. ,  1. ,  0. , 32. ,  4. ,  0. , 37. ,  2. ,\n",
       "         0. , 69. ,  1. ,  0. , 37. ,  4. ,  0. , 39. ,  2. ,  0. , 27. ,\n",
       "         1. ,  0. , 39. ,  4. ,  0. , 32. ,  2. ,  0. , 32. ,  1. ,  0. ,\n",
       "        32. ,  2. ,  0. , 32. ,  0.5,  0. , 42. ,  4. ,  1. , 41. ,  4. ,\n",
       "         0. , 30. ,  8. ,  0. , 32. ,  1. ,  0. , 32. ,  6. ,  0. , 29. ,\n",
       "         1. ,  0. , 41. ,  2. ,  0. ]])"
      ]
     },
     "execution_count": 220,
     "metadata": {},
     "output_type": "execute_result"
    }
   ],
   "source": [
    "from sklearn.impute import SimpleImputer\n",
    "imputer = SimpleImputer(strategy='most_frequent')\n",
    "\n",
    "imputer.fit(d_midi_train)\n",
    "b_inv = np.array(b_inv, dtype=np.float64)\n",
    "b_inv = imputer.transform(b_inv)\n",
    "b_inv[13:14]"
   ]
  },
  {
   "cell_type": "code",
   "execution_count": 215,
   "metadata": {},
   "outputs": [
    {
     "name": "stderr",
     "output_type": "stream",
     "text": [
      "C:\\Users\\EJ\\AppData\\Local\\Temp\\ipykernel_28264\\1637327877.py:1: DeprecationWarning: `np.float` is a deprecated alias for the builtin `float`. To silence this warning, use `float` by itself. Doing this will not modify any behavior and is safe. If you specifically wanted the numpy scalar type, use `np.float64` here.\n",
      "Deprecated in NumPy 1.20; for more details and guidance: https://numpy.org/devdocs/release/1.20.0-notes.html#deprecations\n",
      "  np.array(b_inv, dtype=np.float)[13]\n"
     ]
    },
    {
     "data": {
      "text/plain": [
       "array([39. ,  2. ,  0. , 36. ,  1. ,  0. , 32. ,  4. ,  0. , 37. ,  2. ,\n",
       "        0. ,  nan,  1. ,  0. , 37. ,  4. ,  0. , 39. ,  2. ,  0. , 27. ,\n",
       "        1. ,  0. , 39. ,  4. ,  0. , 32. ,  2. ,  0. , 32. ,  1. ,  0. ,\n",
       "       32. ,  2. ,  0. , 32. ,  0.5,  0. , 42. ,  4. ,  1. , 41. ,  4. ,\n",
       "        0. , 30. ,  8. ,  0. , 32. ,  1. ,  0. , 32. ,  6. ,  0. , 29. ,\n",
       "        1. ,  0. , 41. ,  2. ,  0. ])"
      ]
     },
     "execution_count": 215,
     "metadata": {},
     "output_type": "execute_result"
    }
   ],
   "source": []
  },
  {
   "cell_type": "code",
   "execution_count": 168,
   "metadata": {},
   "outputs": [
    {
     "name": "stderr",
     "output_type": "stream",
     "text": [
      "C:\\Users\\EJ\\anaconda3\\lib\\site-packages\\sklearn\\impute\\_base.py:49: FutureWarning: Unlike other reduction functions (e.g. `skew`, `kurtosis`), the default behavior of `mode` typically preserves the axis it acts along. In SciPy 1.11.0, this behavior will change: the default value of `keepdims` will become False, the `axis` over which the statistic is taken will be eliminated, and the value None will no longer be accepted. Set `keepdims` to True or False to avoid this warning.\n",
      "  mode = stats.mode(array)\n"
     ]
    },
    {
     "ename": "ValueError",
     "evalue": "Expected 2D array, got 1D array instead:\narray=[0. 0. 0. ... 0. 0. 0.].\nReshape your data either using array.reshape(-1, 1) if your data has a single feature or array.reshape(1, -1) if it contains a single sample.",
     "output_type": "error",
     "traceback": [
      "\u001b[1;31m---------------------------------------------------------------------------\u001b[0m",
      "\u001b[1;31mValueError\u001b[0m                                Traceback (most recent call last)",
      "\u001b[1;32m~\\AppData\\Local\\Temp\\ipykernel_28264\\2120707606.py\u001b[0m in \u001b[0;36m<module>\u001b[1;34m\u001b[0m\n\u001b[0;32m      3\u001b[0m \u001b[0mimputer\u001b[0m\u001b[1;33m.\u001b[0m\u001b[0mfit\u001b[0m\u001b[1;33m(\u001b[0m\u001b[0ma\u001b[0m\u001b[1;33m)\u001b[0m\u001b[1;33m\u001b[0m\u001b[1;33m\u001b[0m\u001b[0m\n\u001b[0;32m      4\u001b[0m \u001b[0mb\u001b[0m \u001b[1;33m=\u001b[0m \u001b[0menc\u001b[0m\u001b[1;33m.\u001b[0m\u001b[0mtransform\u001b[0m\u001b[1;33m(\u001b[0m\u001b[0md_midi_valid\u001b[0m\u001b[1;33m)\u001b[0m\u001b[1;33m.\u001b[0m\u001b[0mtoarray\u001b[0m\u001b[1;33m(\u001b[0m\u001b[1;33m)\u001b[0m\u001b[1;33m\u001b[0m\u001b[1;33m\u001b[0m\u001b[0m\n\u001b[1;32m----> 5\u001b[1;33m \u001b[0mrr\u001b[0m \u001b[1;33m=\u001b[0m \u001b[0mimputer\u001b[0m\u001b[1;33m.\u001b[0m\u001b[0mtransform\u001b[0m\u001b[1;33m(\u001b[0m\u001b[0mb\u001b[0m\u001b[1;33m[\u001b[0m\u001b[1;36m0\u001b[0m\u001b[1;33m]\u001b[0m\u001b[1;33m)\u001b[0m\u001b[1;33m\u001b[0m\u001b[1;33m\u001b[0m\u001b[0m\n\u001b[0m\u001b[0;32m      6\u001b[0m \u001b[0mb\u001b[0m\u001b[1;33m[\u001b[0m\u001b[0mb\u001b[0m\u001b[1;33m!=\u001b[0m\u001b[0mrr\u001b[0m\u001b[1;33m]\u001b[0m\u001b[1;33m\u001b[0m\u001b[1;33m\u001b[0m\u001b[0m\n",
      "\u001b[1;32m~\\anaconda3\\lib\\site-packages\\sklearn\\impute\\_base.py\u001b[0m in \u001b[0;36mtransform\u001b[1;34m(self, X)\u001b[0m\n\u001b[0;32m    468\u001b[0m         \u001b[0mcheck_is_fitted\u001b[0m\u001b[1;33m(\u001b[0m\u001b[0mself\u001b[0m\u001b[1;33m)\u001b[0m\u001b[1;33m\u001b[0m\u001b[1;33m\u001b[0m\u001b[0m\n\u001b[0;32m    469\u001b[0m \u001b[1;33m\u001b[0m\u001b[0m\n\u001b[1;32m--> 470\u001b[1;33m         \u001b[0mX\u001b[0m \u001b[1;33m=\u001b[0m \u001b[0mself\u001b[0m\u001b[1;33m.\u001b[0m\u001b[0m_validate_input\u001b[0m\u001b[1;33m(\u001b[0m\u001b[0mX\u001b[0m\u001b[1;33m,\u001b[0m \u001b[0min_fit\u001b[0m\u001b[1;33m=\u001b[0m\u001b[1;32mFalse\u001b[0m\u001b[1;33m)\u001b[0m\u001b[1;33m\u001b[0m\u001b[1;33m\u001b[0m\u001b[0m\n\u001b[0m\u001b[0;32m    471\u001b[0m         \u001b[0mstatistics\u001b[0m \u001b[1;33m=\u001b[0m \u001b[0mself\u001b[0m\u001b[1;33m.\u001b[0m\u001b[0mstatistics_\u001b[0m\u001b[1;33m\u001b[0m\u001b[1;33m\u001b[0m\u001b[0m\n\u001b[0;32m    472\u001b[0m \u001b[1;33m\u001b[0m\u001b[0m\n",
      "\u001b[1;32m~\\anaconda3\\lib\\site-packages\\sklearn\\impute\\_base.py\u001b[0m in \u001b[0;36m_validate_input\u001b[1;34m(self, X, in_fit)\u001b[0m\n\u001b[0;32m    285\u001b[0m                 \u001b[1;32mraise\u001b[0m \u001b[0mnew_ve\u001b[0m \u001b[1;32mfrom\u001b[0m \u001b[1;32mNone\u001b[0m\u001b[1;33m\u001b[0m\u001b[1;33m\u001b[0m\u001b[0m\n\u001b[0;32m    286\u001b[0m             \u001b[1;32melse\u001b[0m\u001b[1;33m:\u001b[0m\u001b[1;33m\u001b[0m\u001b[1;33m\u001b[0m\u001b[0m\n\u001b[1;32m--> 287\u001b[1;33m                 \u001b[1;32mraise\u001b[0m \u001b[0mve\u001b[0m\u001b[1;33m\u001b[0m\u001b[1;33m\u001b[0m\u001b[0m\n\u001b[0m\u001b[0;32m    288\u001b[0m \u001b[1;33m\u001b[0m\u001b[0m\n\u001b[0;32m    289\u001b[0m         \u001b[0m_check_inputs_dtype\u001b[0m\u001b[1;33m(\u001b[0m\u001b[0mX\u001b[0m\u001b[1;33m,\u001b[0m \u001b[0mself\u001b[0m\u001b[1;33m.\u001b[0m\u001b[0mmissing_values\u001b[0m\u001b[1;33m)\u001b[0m\u001b[1;33m\u001b[0m\u001b[1;33m\u001b[0m\u001b[0m\n",
      "\u001b[1;32m~\\anaconda3\\lib\\site-packages\\sklearn\\impute\\_base.py\u001b[0m in \u001b[0;36m_validate_input\u001b[1;34m(self, X, in_fit)\u001b[0m\n\u001b[0;32m    268\u001b[0m \u001b[1;33m\u001b[0m\u001b[0m\n\u001b[0;32m    269\u001b[0m         \u001b[1;32mtry\u001b[0m\u001b[1;33m:\u001b[0m\u001b[1;33m\u001b[0m\u001b[1;33m\u001b[0m\u001b[0m\n\u001b[1;32m--> 270\u001b[1;33m             X = self._validate_data(\n\u001b[0m\u001b[0;32m    271\u001b[0m                 \u001b[0mX\u001b[0m\u001b[1;33m,\u001b[0m\u001b[1;33m\u001b[0m\u001b[1;33m\u001b[0m\u001b[0m\n\u001b[0;32m    272\u001b[0m                 \u001b[0mreset\u001b[0m\u001b[1;33m=\u001b[0m\u001b[0min_fit\u001b[0m\u001b[1;33m,\u001b[0m\u001b[1;33m\u001b[0m\u001b[1;33m\u001b[0m\u001b[0m\n",
      "\u001b[1;32m~\\anaconda3\\lib\\site-packages\\sklearn\\base.py\u001b[0m in \u001b[0;36m_validate_data\u001b[1;34m(self, X, y, reset, validate_separately, **check_params)\u001b[0m\n\u001b[0;32m    564\u001b[0m             \u001b[1;32mraise\u001b[0m \u001b[0mValueError\u001b[0m\u001b[1;33m(\u001b[0m\u001b[1;34m\"Validation should be done on X, y or both.\"\u001b[0m\u001b[1;33m)\u001b[0m\u001b[1;33m\u001b[0m\u001b[1;33m\u001b[0m\u001b[0m\n\u001b[0;32m    565\u001b[0m         \u001b[1;32melif\u001b[0m \u001b[1;32mnot\u001b[0m \u001b[0mno_val_X\u001b[0m \u001b[1;32mand\u001b[0m \u001b[0mno_val_y\u001b[0m\u001b[1;33m:\u001b[0m\u001b[1;33m\u001b[0m\u001b[1;33m\u001b[0m\u001b[0m\n\u001b[1;32m--> 566\u001b[1;33m             \u001b[0mX\u001b[0m \u001b[1;33m=\u001b[0m \u001b[0mcheck_array\u001b[0m\u001b[1;33m(\u001b[0m\u001b[0mX\u001b[0m\u001b[1;33m,\u001b[0m \u001b[1;33m**\u001b[0m\u001b[0mcheck_params\u001b[0m\u001b[1;33m)\u001b[0m\u001b[1;33m\u001b[0m\u001b[1;33m\u001b[0m\u001b[0m\n\u001b[0m\u001b[0;32m    567\u001b[0m             \u001b[0mout\u001b[0m \u001b[1;33m=\u001b[0m \u001b[0mX\u001b[0m\u001b[1;33m\u001b[0m\u001b[1;33m\u001b[0m\u001b[0m\n\u001b[0;32m    568\u001b[0m         \u001b[1;32melif\u001b[0m \u001b[0mno_val_X\u001b[0m \u001b[1;32mand\u001b[0m \u001b[1;32mnot\u001b[0m \u001b[0mno_val_y\u001b[0m\u001b[1;33m:\u001b[0m\u001b[1;33m\u001b[0m\u001b[1;33m\u001b[0m\u001b[0m\n",
      "\u001b[1;32m~\\anaconda3\\lib\\site-packages\\sklearn\\utils\\validation.py\u001b[0m in \u001b[0;36mcheck_array\u001b[1;34m(array, accept_sparse, accept_large_sparse, dtype, order, copy, force_all_finite, ensure_2d, allow_nd, ensure_min_samples, ensure_min_features, estimator)\u001b[0m\n\u001b[0;32m    767\u001b[0m             \u001b[1;31m# If input is 1D raise error\u001b[0m\u001b[1;33m\u001b[0m\u001b[1;33m\u001b[0m\u001b[0m\n\u001b[0;32m    768\u001b[0m             \u001b[1;32mif\u001b[0m \u001b[0marray\u001b[0m\u001b[1;33m.\u001b[0m\u001b[0mndim\u001b[0m \u001b[1;33m==\u001b[0m \u001b[1;36m1\u001b[0m\u001b[1;33m:\u001b[0m\u001b[1;33m\u001b[0m\u001b[1;33m\u001b[0m\u001b[0m\n\u001b[1;32m--> 769\u001b[1;33m                 raise ValueError(\n\u001b[0m\u001b[0;32m    770\u001b[0m                     \u001b[1;34m\"Expected 2D array, got 1D array instead:\\narray={}.\\n\"\u001b[0m\u001b[1;33m\u001b[0m\u001b[1;33m\u001b[0m\u001b[0m\n\u001b[0;32m    771\u001b[0m                     \u001b[1;34m\"Reshape your data either using array.reshape(-1, 1) if \"\u001b[0m\u001b[1;33m\u001b[0m\u001b[1;33m\u001b[0m\u001b[0m\n",
      "\u001b[1;31mValueError\u001b[0m: Expected 2D array, got 1D array instead:\narray=[0. 0. 0. ... 0. 0. 0.].\nReshape your data either using array.reshape(-1, 1) if your data has a single feature or array.reshape(1, -1) if it contains a single sample."
     ]
    }
   ],
   "source": [
    "imputer.fit(a)\n",
    "b = enc.transform(d_midi_valid).toarray()\n",
    "rr = imputer.transform(b[0])\n",
    "b[b!=rr]"
   ]
  },
  {
   "cell_type": "code",
   "execution_count": 128,
   "metadata": {},
   "outputs": [
    {
     "data": {
      "text/plain": [
       "(3, 1, 636)"
      ]
     },
     "execution_count": 128,
     "metadata": {},
     "output_type": "execute_result"
    }
   ],
   "source": [
    "np.expand_dims(a[0].reshape(636, 3).transpose(1,0), axis=1).shape"
   ]
  },
  {
   "cell_type": "code",
   "execution_count": 124,
   "metadata": {},
   "outputs": [
    {
     "data": {
      "text/plain": [
       "(11149, 3, 1, 20)"
      ]
     },
     "execution_count": 124,
     "metadata": {},
     "output_type": "execute_result"
    }
   ],
   "source": [
    "np.expand_dims(d_midi_train.reshape(d_midi_train.shape[0], 20, 3).transpose(0,2,1),axis=2).shape"
   ]
  },
  {
   "cell_type": "code",
   "execution_count": 114,
   "metadata": {},
   "outputs": [
    {
     "data": {
      "text/plain": [
       "((60,), (1908,))"
      ]
     },
     "execution_count": 114,
     "metadata": {},
     "output_type": "execute_result"
    }
   ],
   "source": [
    "d_midi_train[0].shape, a[0].shape"
   ]
  },
  {
   "cell_type": "code",
   "execution_count": 87,
   "metadata": {},
   "outputs": [],
   "source": [
    "aa = np.expand_dims(np.array(np.split(d_midi_train[0], 20)).transpose(1,0),axis=1)"
   ]
  },
  {
   "cell_type": "code",
   "execution_count": 88,
   "metadata": {},
   "outputs": [
    {
     "data": {
      "text/plain": [
       "array([[[76.  , 76.  , 76.  , 76.  , 72.  , 77.  , 76.  , 72.  , 76.  ,\n",
       "         74.  , 74.  , 72.  , 76.  , 74.  , 74.  , 72.  , 76.  , 74.  ,\n",
       "         74.  , 72.  ]],\n",
       "\n",
       "       [[ 0.25,  0.75,  0.25,  3.  ,  1.  ,  2.  ,  1.  ,  3.  ,  1.  ,\n",
       "          0.5 ,  1.  ,  4.  ,  1.  ,  1.  ,  1.  ,  4.  ,  2.  ,  0.75,\n",
       "          1.  ,  6.  ]],\n",
       "\n",
       "       [[ 0.  ,  0.  ,  0.  ,  1.  ,  8.  ,  0.  ,  0.  ,  0.  ,  8.  ,\n",
       "          0.  ,  0.  ,  0.  ,  1.  ,  0.  ,  0.  ,  0.  ,  1.  ,  0.  ,\n",
       "          0.  ,  0.  ]]])"
      ]
     },
     "execution_count": 88,
     "metadata": {},
     "output_type": "execute_result"
    }
   ],
   "source": [
    "aa"
   ]
  },
  {
   "cell_type": "code",
   "execution_count": 105,
   "metadata": {},
   "outputs": [],
   "source": [
    "d_midi_train_new = np.expand_dims(d_midi_train.reshape(d_midi_train.shape[0],20,3).transpose(0,2,1),axis=2)"
   ]
  },
  {
   "cell_type": "code",
   "execution_count": 106,
   "metadata": {},
   "outputs": [
    {
     "data": {
      "text/plain": [
       "(11149, 3, 1, 20)"
      ]
     },
     "execution_count": 106,
     "metadata": {},
     "output_type": "execute_result"
    }
   ],
   "source": [
    "d_midi_train_new.shape"
   ]
  },
  {
   "cell_type": "code",
   "execution_count": 80,
   "metadata": {},
   "outputs": [
    {
     "data": {
      "text/plain": [
       "(1051, 1908)"
      ]
     },
     "execution_count": 80,
     "metadata": {},
     "output_type": "execute_result"
    }
   ],
   "source": [
    "b = enc.transform(d_midi_valid).toarray()\n",
    "b.shape"
   ]
  },
  {
   "cell_type": "code",
   "execution_count": 82,
   "metadata": {},
   "outputs": [],
   "source": [
    "b_r = enc.inverse_transform(b)"
   ]
  },
  {
   "cell_type": "code",
   "execution_count": 83,
   "metadata": {},
   "outputs": [
    {
     "data": {
      "text/plain": [
       "(1051, 60)"
      ]
     },
     "execution_count": 83,
     "metadata": {},
     "output_type": "execute_result"
    }
   ],
   "source": [
    "b_r.shape"
   ]
  },
  {
   "cell_type": "code",
   "execution_count": 30,
   "metadata": {},
   "outputs": [],
   "source": [
    "def get_midi_note_rest(d_midi):\n",
    "    d = d_midi.reshape(d_midi.shape[0], 20, 3).T\n",
    "    return d[0][0], d[1][0], d[2][0]"
   ]
  },
  {
   "cell_type": "code",
   "execution_count": 33,
   "metadata": {},
   "outputs": [],
   "source": [
    "midi_num_tr, note_dur_tr, rest_dur_tr = get_midi_note_rest(d_midi_train)\n",
    "midi_num_va, note_dur_va, rest_dur_va = get_midi_note_rest(d_midi_valid)\n",
    "midi_num_te, note_dur_te, rest_dur_te = get_midi_note_rest(d_midi_test)"
   ]
  },
  {
   "cell_type": "code",
   "execution_count": 47,
   "metadata": {},
   "outputs": [
    {
     "data": {
      "text/plain": [
       "array([ 12.,  16.,  19.,  22.,  23.,  24.,  25.,  26.,  27.,  28.,  29.,\n",
       "        30.,  31.,  32.,  33.,  34.,  35.,  36.,  37.,  38.,  39.,  40.,\n",
       "        41.,  42.,  43.,  44.,  45.,  46.,  47.,  48.,  49.,  50.,  51.,\n",
       "        52.,  53.,  54.,  55.,  56.,  57.,  58.,  59.,  60.,  61.,  62.,\n",
       "        63.,  64.,  65.,  66.,  67.,  68.,  69.,  70.,  71.,  72.,  73.,\n",
       "        74.,  75.,  76.,  77.,  78.,  79.,  80.,  81.,  82.,  83.,  84.,\n",
       "        85.,  86.,  87.,  88.,  89.,  90.,  91.,  92.,  93.,  95.,  96.,\n",
       "        97.,  98., 119.])"
      ]
     },
     "execution_count": 47,
     "metadata": {},
     "output_type": "execute_result"
    }
   ],
   "source": [
    "np.unique(np.concatenate((midi_num_tr, midi_num_va, midi_num_te)))"
   ]
  },
  {
   "cell_type": "code",
   "execution_count": 49,
   "metadata": {
    "colab": {
     "base_uri": "https://localhost:8080/"
    },
    "executionInfo": {
     "elapsed": 161,
     "status": "ok",
     "timestamp": 1667169812621,
     "user": {
      "displayName": "Eunji Song",
      "userId": "02630850563491596195"
     },
     "user_tz": 420
    },
    "id": "h_kaPz4g5rSY",
    "outputId": "520f6768-18af-437e-a2b2-2f9c0f4925a9"
   },
   "outputs": [
    {
     "data": {
      "text/plain": [
       "array([ 0.25,  0.5 ,  0.75,  1.  ,  1.5 ,  2.  ,  3.  ,  4.  ,  6.  ,\n",
       "        8.  , 16.  , 32.  ])"
      ]
     },
     "execution_count": 49,
     "metadata": {},
     "output_type": "execute_result"
    }
   ],
   "source": [
    "np.unique(np.concatenate((note_dur_tr, note_dur_va, note_dur_te)))"
   ]
  },
  {
   "cell_type": "code",
   "execution_count": 50,
   "metadata": {
    "id": "1-PoiyradUdH"
   },
   "outputs": [
    {
     "data": {
      "text/plain": [
       "array([ 0.,  1.,  2.,  4.,  8., 16., 32.])"
      ]
     },
     "execution_count": 50,
     "metadata": {},
     "output_type": "execute_result"
    }
   ],
   "source": [
    "np.unique(np.concatenate((rest_dur_tr, rest_dur_va, rest_dur_te)))"
   ]
  },
  {
   "cell_type": "code",
   "execution_count": 51,
   "metadata": {},
   "outputs": [],
   "source": [
    "MIDI_NUM_CAND = [ 12.,  16.,  19.,  22.,  23.,  24.,  25.,  26.,  27.,  28.,  29.,\n",
    "        30.,  31.,  32.,  33.,  34.,  35.,  36.,  37.,  38.,  39.,  40.,\n",
    "        41.,  42.,  43.,  44.,  45.,  46.,  47.,  48.,  49.,  50.,  51.,\n",
    "        52.,  53.,  54.,  55.,  56.,  57.,  58.,  59.,  60.,  61.,  62.,\n",
    "        63.,  64.,  65.,  66.,  67.,  68.,  69.,  70.,  71.,  72.,  73.,\n",
    "        74.,  75.,  76.,  77.,  78.,  79.,  80.,  81.,  82.,  83.,  84.,\n",
    "        85.,  86.,  87.,  88.,  89.,  90.,  91.,  92.,  93.,  95.,  96.,\n",
    "        97.,  98., 119.]\n",
    "DUR_CAND = [ 0.25,  0.5 ,  0.75,  1.  ,  1.5 ,  2.  ,  3.  ,  4.  ,  6.  ,\n",
    "        8.  , 16.  , 32. ]\n",
    "REST_CAND = [ 0.,  1.,  2.,  4.,  8., 16., 32.]"
   ]
  },
  {
   "cell_type": "code",
   "execution_count": 52,
   "metadata": {},
   "outputs": [
    {
     "data": {
      "text/plain": [
       "array([76.  ,  0.25,  0.  , 76.  ,  0.75,  0.  , 76.  ,  0.25,  0.  ,\n",
       "       76.  ,  3.  ,  1.  , 72.  ,  1.  ,  8.  , 77.  ,  2.  ,  0.  ,\n",
       "       76.  ,  1.  ,  0.  , 72.  ,  3.  ,  0.  , 76.  ,  1.  ,  8.  ,\n",
       "       74.  ,  0.5 ,  0.  , 74.  ,  1.  ,  0.  , 72.  ,  4.  ,  0.  ,\n",
       "       76.  ,  1.  ,  1.  , 74.  ,  1.  ,  0.  , 74.  ,  1.  ,  0.  ,\n",
       "       72.  ,  4.  ,  0.  , 76.  ,  2.  ,  1.  , 74.  ,  0.75,  0.  ,\n",
       "       74.  ,  1.  ,  0.  , 72.  ,  6.  ,  0.  ])"
      ]
     },
     "execution_count": 52,
     "metadata": {},
     "output_type": "execute_result"
    }
   ],
   "source": [
    "d_midi_train[0]"
   ]
  },
  {
   "cell_type": "code",
   "execution_count": null,
   "metadata": {
    "id": "mNksIqXwbry0"
   },
   "outputs": [],
   "source": [
    "def get_all_stats_from_array(d_midi):\n",
    "    _num_midi_features = 3\n",
    "    _seq_length = int(len(d_midi) / _num_midi_features)\n",
    "    stats = {}\n",
    "    tones = []\n",
    "    note_type = []\n",
    "    rest = []\n",
    "    for i in range(_seq_length):\n",
    "        tones.append(d_midi[i*_num_midi_features+0])\n",
    "    for i in range(_seq_length):\n",
    "        note_type.append(d_midi[i*_num_midi_features+1])\n",
    "    for i in range(_seq_length):\n",
    "        rest.append(d_midi[i*_num_midi_features+2])\n",
    "    if len(tones) == 0:\n",
    "        print('This is an empty song.')\n",
    "        return None\n",
    "    stats['num_tones'] = len(tones)\n",
    "    stats['tone_min'] = min(tones)\n",
    "    stats['tone_max'] = max(tones)\n",
    "    stats['tone_span'] = max(tones)-min(tones)\n",
    "    stats['tones_unique'] = len(set(tones))\n",
    "    rs = midi_statistics.repetitions(tones)\n",
    "    for r in range(2, 10):\n",
    "        if r in rs:\n",
    "          stats['repetitions_{}'.format(r)] = rs[r]\n",
    "        else:\n",
    "          stats['repetitions_{}'.format(r)] = 0\n",
    "    ml = midi_statistics.max_likelihood_scale(tones)\n",
    "    stats['scale'] = ml[0]\n",
    "    stats['scale_score'] = ml[1]\n",
    "    stats['rest_max'] = max(rest)\n",
    "    stats['average_rest'] = np.mean(rest)\n",
    "    stats['num_null_rest'] = rest.count(0)\n",
    "    stats['songlength'] = sum(rest) + sum(note_type)\n",
    "\n",
    "    return stats"
   ]
  },
  {
   "cell_type": "code",
   "execution_count": null,
   "metadata": {
    "id": "0DfAGCfvaApr"
   },
   "outputs": [],
   "source": [
    "def analyze_ground_truth(data):\n",
    "  # for each data[i], data[i][:60] is the midi data. the rest is the lyrics data\n",
    "  model_stats = {}\n",
    "  model_stats['stats_scale_tot'] = 0\n",
    "  model_stats['stats_repetitions_2_tot'] = 0\n",
    "  model_stats['stats_repetitions_3_tot'] = 0\n",
    "  model_stats['stats_span_tot'] = 0\n",
    "  model_stats['stats_unique_tones_tot'] = 0\n",
    "  model_stats['stats_avg_rest_tot'] = 0\n",
    "  model_stats['num_of_null_rest_tot'] = 0\n",
    "  model_stats['best_scale_score'] = 0\n",
    "  model_stats['best_repetitions_2'] = 0\n",
    "  model_stats['best_repetitions_3'] = 0\n",
    "  model_stats['num_perfect_scale'] = 0\n",
    "  model_stats['num_good_songs'] = 0\n",
    "  model_stats['avg_songlength'] = 0\n",
    "\n",
    "  for d in data:\n",
    "    d_midi = d[:60]\n",
    "    stats = get_all_stats_from_array(d_midi)\n",
    "    # get stats\n",
    "    model_stats['stats_scale_tot'] += stats['scale_score']\n",
    "    model_stats['stats_repetitions_2_tot'] += float(stats['repetitions_2'])\n",
    "    model_stats['stats_repetitions_3_tot'] += float(stats['repetitions_3'])\n",
    "    model_stats['stats_unique_tones_tot'] += float(stats['tones_unique'])\n",
    "    model_stats['stats_span_tot'] += stats['tone_span']\n",
    "    model_stats['stats_avg_rest_tot'] += stats['average_rest']\n",
    "    model_stats['num_of_null_rest_tot'] += stats['num_null_rest']\n",
    "    model_stats['best_scale_score'] = max(stats['scale_score'], model_stats['best_scale_score'])\n",
    "    model_stats['best_repetitions_2'] = max(stats['repetitions_2'], model_stats['best_repetitions_2'])\n",
    "    model_stats['best_repetitions_3'] = max(stats['repetitions_3'], model_stats['best_repetitions_3'])\n",
    "    model_stats['avg_songlength'] += stats['songlength']\n",
    "\n",
    "    if stats['scale_score'] == 1.0 and stats['tones_unique'] > 3 \\\n",
    "        and stats['tone_span'] > 4 and stats['num_null_rest'] > 8 and stats['tone_span'] < 13\\\n",
    "        and stats['repetitions_2'] > 4:\n",
    "        model_stats['num_good_songs'] += 1\n",
    "    \n",
    "  model_stats['avg_songlength'] /= len(data)\n",
    "\n",
    "  return model_stats"
   ]
  },
  {
   "cell_type": "code",
   "execution_count": null,
   "metadata": {
    "id": "Iuv5XTCoclOn"
   },
   "outputs": [],
   "source": [
    "test_gt_stats = analyze_ground_truth(test_data)\n",
    "valid_gt_stats = analyze_ground_truth(valid_data)\n",
    "train_gt_stats = analyze_ground_truth(train_data)"
   ]
  },
  {
   "cell_type": "code",
   "execution_count": null,
   "metadata": {
    "colab": {
     "base_uri": "https://localhost:8080/"
    },
    "executionInfo": {
     "elapsed": 11,
     "status": "ok",
     "timestamp": 1667177060473,
     "user": {
      "displayName": "Eunji Song",
      "userId": "02630850563491596195"
     },
     "user_tz": 420
    },
    "id": "fJi1MfINeTC1",
    "outputId": "dd047df1-e209-4987-b101-35e7a659409e"
   },
   "outputs": [
    {
     "data": {
      "text/plain": [
       "({'stats_scale_tot': 1003.4500000000007,\n",
       "  'stats_repetitions_2_tot': 7803.0,\n",
       "  'stats_repetitions_3_tot': 4039.0,\n",
       "  'stats_span_tot': 11326.0,\n",
       "  'stats_unique_tones_tot': 6184.0,\n",
       "  'stats_avg_rest_tot': 815.2499999999987,\n",
       "  'num_of_null_rest_tot': 16380,\n",
       "  'best_scale_score': 1.0,\n",
       "  'best_repetitions_2': 18,\n",
       "  'best_repetitions_3': 17,\n",
       "  'num_perfect_scale': 0,\n",
       "  'num_good_songs': 383,\n",
       "  'avg_songlength': 43.25404376784015},\n",
       " {'stats_scale_tot': 1004.9500000000018,\n",
       "  'stats_repetitions_2_tot': 7889.0,\n",
       "  'stats_repetitions_3_tot': 4086.0,\n",
       "  'stats_span_tot': 10946.0,\n",
       "  'stats_unique_tones_tot': 6155.0,\n",
       "  'stats_avg_rest_tot': 830.8999999999995,\n",
       "  'num_of_null_rest_tot': 16142,\n",
       "  'best_scale_score': 1.0,\n",
       "  'best_repetitions_2': 18,\n",
       "  'best_repetitions_3': 17,\n",
       "  'num_perfect_scale': 0,\n",
       "  'num_good_songs': 416,\n",
       "  'avg_songlength': 43.13796384395813},\n",
       " {'stats_scale_tot': 10642.79999999999,\n",
       "  'stats_repetitions_2_tot': 83330.0,\n",
       "  'stats_repetitions_3_tot': 43417.0,\n",
       "  'stats_span_tot': 117021.0,\n",
       "  'stats_unique_tones_tot': 65534.0,\n",
       "  'stats_avg_rest_tot': 9047.05000000001,\n",
       "  'num_of_null_rest_tot': 171958,\n",
       "  'best_scale_score': 1.0,\n",
       "  'best_repetitions_2': 18,\n",
       "  'best_repetitions_3': 17,\n",
       "  'num_perfect_scale': 0,\n",
       "  'num_good_songs': 4125,\n",
       "  'avg_songlength': 43.337339671719434})"
      ]
     },
     "execution_count": 75,
     "metadata": {},
     "output_type": "execute_result"
    }
   ],
   "source": [
    "test_gt_stats, valid_gt_stats, train_gt_stats"
   ]
  },
  {
   "cell_type": "code",
   "execution_count": null,
   "metadata": {
    "id": "bcyK1P_A5rSZ"
   },
   "outputs": [],
   "source": [
    "model_path = 'saved_gan_models/saved_model_best_overall_mmd'"
   ]
  },
  {
   "cell_type": "code",
   "execution_count": null,
   "metadata": {
    "id": "QY_XtMF4EIrK"
   },
   "outputs": [],
   "source": [
    "test_gen_songs, test_model_stats = do_generate_songs(model_path, test_data)"
   ]
  },
  {
   "cell_type": "code",
   "execution_count": null,
   "metadata": {
    "colab": {
     "base_uri": "https://localhost:8080/"
    },
    "executionInfo": {
     "elapsed": 1283,
     "status": "ok",
     "timestamp": 1667169889362,
     "user": {
      "displayName": "Eunji Song",
      "userId": "02630850563491596195"
     },
     "user_tz": 420
    },
    "id": "P2V1rDwxEPJ7",
    "outputId": "2c1e9a48-1e96-4f19-c272-dc46dbf1e3db"
   },
   "outputs": [
    {
     "data": {
      "text/plain": [
       "(11149, 460)"
      ]
     },
     "execution_count": 16,
     "metadata": {},
     "output_type": "execute_result"
    }
   ],
   "source": [
    "train_data = np.load('./data/processed_dataset_matrices/train_data_matrix.npy')\n",
    "train_data.shape"
   ]
  },
  {
   "cell_type": "code",
   "execution_count": null,
   "metadata": {
    "colab": {
     "base_uri": "https://localhost:8080/"
    },
    "executionInfo": {
     "elapsed": 565,
     "status": "ok",
     "timestamp": 1667169913120,
     "user": {
      "displayName": "Eunji Song",
      "userId": "02630850563491596195"
     },
     "user_tz": 420
    },
    "id": "2NnPXahuEb6X",
    "outputId": "ee0249e7-b359-4abb-adac-cb8b2436915c"
   },
   "outputs": [
    {
     "data": {
      "text/plain": [
       "(1051, 460)"
      ]
     },
     "execution_count": 17,
     "metadata": {},
     "output_type": "execute_result"
    }
   ],
   "source": [
    "valid_data = np.load('./data/processed_dataset_matrices/valid_data_matrix.npy')\n",
    "valid_data.shape"
   ]
  },
  {
   "cell_type": "code",
   "execution_count": null,
   "metadata": {
    "id": "_c-WBAWhEh1J"
   },
   "outputs": [],
   "source": [
    "valid_gen_songs, valid_model_stats = do_generate_songs(model_path, valid_data)"
   ]
  },
  {
   "cell_type": "code",
   "execution_count": null,
   "metadata": {
    "id": "XRV8fJo8E_cZ"
   },
   "outputs": [],
   "source": [
    "train_gen_songs, train_model_stats = do_generate_songs(model_path, train_data)"
   ]
  },
  {
   "cell_type": "code",
   "execution_count": null,
   "metadata": {
    "colab": {
     "base_uri": "https://localhost:8080/"
    },
    "executionInfo": {
     "elapsed": 12,
     "status": "ok",
     "timestamp": 1667177198110,
     "user": {
      "displayName": "Eunji Song",
      "userId": "02630850563491596195"
     },
     "user_tz": 420
    },
    "id": "HF4ZKvmz5rSZ",
    "outputId": "2c25f0b2-2073-4dd9-df58-97c96fdd3767"
   },
   "outputs": [
    {
     "data": {
      "text/plain": [
       "(1051, 20, 3)"
      ]
     },
     "execution_count": 78,
     "metadata": {},
     "output_type": "execute_result"
    }
   ],
   "source": [
    "test_gen_songs = np.asarray(test_gen_songs)\n",
    "test_gen_songs.shape"
   ]
  },
  {
   "cell_type": "code",
   "execution_count": null,
   "metadata": {
    "colab": {
     "base_uri": "https://localhost:8080/"
    },
    "executionInfo": {
     "elapsed": 20,
     "status": "ok",
     "timestamp": 1667177608786,
     "user": {
      "displayName": "Eunji Song",
      "userId": "02630850563491596195"
     },
     "user_tz": 420
    },
    "id": "54A8UwLiMeJE",
    "outputId": "00cf8d97-6ded-4b48-ab19-15f657e26d77"
   },
   "outputs": [
    {
     "data": {
      "text/plain": [
       "(1051, 20, 3)"
      ]
     },
     "execution_count": 82,
     "metadata": {},
     "output_type": "execute_result"
    }
   ],
   "source": [
    "valid_get_songs = np.asarray(valid_gen_songs)\n",
    "valid_get_songs.shape"
   ]
  },
  {
   "cell_type": "code",
   "execution_count": null,
   "metadata": {
    "colab": {
     "base_uri": "https://localhost:8080/"
    },
    "executionInfo": {
     "elapsed": 9,
     "status": "ok",
     "timestamp": 1667177608786,
     "user": {
      "displayName": "Eunji Song",
      "userId": "02630850563491596195"
     },
     "user_tz": 420
    },
    "id": "G7ixZXqGMlqJ",
    "outputId": "883d2d74-43e1-4ac4-e270-2c9422a5508e"
   },
   "outputs": [
    {
     "data": {
      "text/plain": [
       "(11149, 20, 3)"
      ]
     },
     "execution_count": 83,
     "metadata": {},
     "output_type": "execute_result"
    }
   ],
   "source": [
    "train_get_songs = np.asarray(train_gen_songs)\n",
    "train_get_songs.shape"
   ]
  },
  {
   "cell_type": "code",
   "execution_count": null,
   "metadata": {
    "colab": {
     "base_uri": "https://localhost:8080/"
    },
    "executionInfo": {
     "elapsed": 10,
     "status": "ok",
     "timestamp": 1667177198111,
     "user": {
      "displayName": "Eunji Song",
      "userId": "02630850563491596195"
     },
     "user_tz": 420
    },
    "id": "1og7mKRxB7-K",
    "outputId": "3c9ba0d6-3288-4f1d-de89-94f95c762723"
   },
   "outputs": [
    {
     "data": {
      "text/plain": [
       "{'stats_scale_tot': 1051.0,\n",
       " 'stats_repetitions_2_tot': 6694.0,\n",
       " 'stats_repetitions_3_tot': 2630.0,\n",
       " 'stats_span_tot': 11992.0,\n",
       " 'stats_unique_tones_tot': 6805.0,\n",
       " 'stats_avg_rest_tot': 338.50000000000006,\n",
       " 'num_of_null_rest_tot': 17057,\n",
       " 'best_scale_score': 1.0,\n",
       " 'best_repetitions_2': 14,\n",
       " 'best_repetitions_3': 12,\n",
       " 'num_perfect_scale': 0,\n",
       " 'num_good_songs': 582,\n",
       " 'avg_songlength': 25.955280685061847}"
      ]
     },
     "execution_count": 79,
     "metadata": {},
     "output_type": "execute_result"
    }
   ],
   "source": [
    "test_model_stats"
   ]
  },
  {
   "cell_type": "code",
   "execution_count": null,
   "metadata": {
    "colab": {
     "base_uri": "https://localhost:8080/"
    },
    "executionInfo": {
     "elapsed": 220,
     "status": "ok",
     "timestamp": 1667177609000,
     "user": {
      "displayName": "Eunji Song",
      "userId": "02630850563491596195"
     },
     "user_tz": 420
    },
    "id": "J5cyWe6VE8A0",
    "outputId": "977c5791-7183-4467-ad0e-4c1fd50f1c92"
   },
   "outputs": [
    {
     "data": {
      "text/plain": [
       "{'stats_scale_tot': 1051.0,\n",
       " 'stats_repetitions_2_tot': 6616.0,\n",
       " 'stats_repetitions_3_tot': 2619.0,\n",
       " 'stats_span_tot': 12397.0,\n",
       " 'stats_unique_tones_tot': 6941.0,\n",
       " 'stats_avg_rest_tot': 347.1000000000005,\n",
       " 'num_of_null_rest_tot': 16903,\n",
       " 'best_scale_score': 1.0,\n",
       " 'best_repetitions_2': 15,\n",
       " 'best_repetitions_3': 13,\n",
       " 'num_perfect_scale': 0,\n",
       " 'num_good_songs': 551,\n",
       " 'avg_songlength': 26.238582302568982}"
      ]
     },
     "execution_count": 84,
     "metadata": {},
     "output_type": "execute_result"
    }
   ],
   "source": [
    "valid_model_stats"
   ]
  },
  {
   "cell_type": "code",
   "execution_count": null,
   "metadata": {
    "colab": {
     "base_uri": "https://localhost:8080/"
    },
    "executionInfo": {
     "elapsed": 6,
     "status": "ok",
     "timestamp": 1667177609001,
     "user": {
      "displayName": "Eunji Song",
      "userId": "02630850563491596195"
     },
     "user_tz": 420
    },
    "id": "O48mJp9_FGk8",
    "outputId": "f5e6942e-b6b0-4e23-fe9b-c6c4b921d541"
   },
   "outputs": [
    {
     "data": {
      "text/plain": [
       "{'stats_scale_tot': 11149.0,\n",
       " 'stats_repetitions_2_tot': 70182.0,\n",
       " 'stats_repetitions_3_tot': 27138.0,\n",
       " 'stats_span_tot': 130290.0,\n",
       " 'stats_unique_tones_tot': 73094.0,\n",
       " 'stats_avg_rest_tot': 3476.5500000000447,\n",
       " 'num_of_null_rest_tot': 182102,\n",
       " 'best_scale_score': 1.0,\n",
       " 'best_repetitions_2': 16,\n",
       " 'best_repetitions_3': 14,\n",
       " 'num_perfect_scale': 0,\n",
       " 'num_good_songs': 6100,\n",
       " 'avg_songlength': 25.76015786169163}"
      ]
     },
     "execution_count": 85,
     "metadata": {},
     "output_type": "execute_result"
    }
   ],
   "source": [
    "train_model_stats"
   ]
  },
  {
   "cell_type": "code",
   "execution_count": null,
   "metadata": {
    "colab": {
     "base_uri": "https://localhost:8080/"
    },
    "executionInfo": {
     "elapsed": 177,
     "status": "ok",
     "timestamp": 1667168955588,
     "user": {
      "displayName": "Eunji Song",
      "userId": "02630850563491596195"
     },
     "user_tz": 420
    },
    "id": "lvzsCPmA5rSa",
    "outputId": "09db5908-ff3f-4e82-a0c3-94d30017fd74"
   },
   "outputs": [
    {
     "data": {
      "text/plain": [
       "((1051, 20), (1051, 20), (1051, 20))"
      ]
     },
     "execution_count": 7,
     "metadata": {},
     "output_type": "execute_result"
    }
   ],
   "source": [
    "\n",
    "generated_pitches = generated_songs[:, :, 0]\n",
    "generated_lengths = generated_songs[:, :, 1]\n",
    "generated_rests   = generated_songs[:, :, 2]\n",
    "\n",
    "generated_pitches.shape, generated_lengths.shape, generated_rests.shape\n"
   ]
  },
  {
   "cell_type": "code",
   "execution_count": null,
   "metadata": {
    "id": "YOxECKGbA3yc"
   },
   "outputs": [],
   "source": []
  },
  {
   "cell_type": "code",
   "execution_count": null,
   "metadata": {
    "id": "HNrerBeoA3pI"
   },
   "outputs": [],
   "source": []
  },
  {
   "cell_type": "code",
   "execution_count": null,
   "metadata": {
    "id": "PTKs5uxO5rSa"
   },
   "outputs": [],
   "source": [
    "\n",
    "np.save(model_path + '/generated_songs',   generated_songs)\n",
    "np.save(model_path + '/generated_pitches', generated_pitches)\n",
    "np.save(model_path + '/generated_lengths', generated_lengths)\n",
    "np.save(model_path + '/generated_rests',   generated_rests)\n"
   ]
  },
  {
   "cell_type": "code",
   "execution_count": null,
   "metadata": {
    "id": "SyTndE7t5rSb"
   },
   "outputs": [],
   "source": []
  }
 ],
 "metadata": {
  "colab": {
   "collapsed_sections": [],
   "provenance": []
  },
  "kernelspec": {
   "display_name": "Python 3 (ipykernel)",
   "language": "python",
   "name": "python3"
  },
  "language_info": {
   "codemirror_mode": {
    "name": "ipython",
    "version": 3
   },
   "file_extension": ".py",
   "mimetype": "text/x-python",
   "name": "python",
   "nbconvert_exporter": "python",
   "pygments_lexer": "ipython3",
   "version": "3.9.13"
  }
 },
 "nbformat": 4,
 "nbformat_minor": 1
}
